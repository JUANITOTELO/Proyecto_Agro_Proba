{
  "nbformat": 4,
  "nbformat_minor": 0,
  "metadata": {
    "colab": {
      "name": "analisis_por_areas.ipynb",
      "provenance": [],
      "collapsed_sections": []
    },
    "kernelspec": {
      "display_name": "Python 3",
      "name": "python3"
    },
    "language_info": {
      "name": "python"
    }
  },
  "cells": [
    {
      "cell_type": "code",
      "metadata": {
        "id": "ILte-FWJ0GIX"
      },
      "source": [
        "from google.colab import drive\n",
        "drive.mount('/gdrive', force_remount=True)"
      ],
      "execution_count": null,
      "outputs": []
    },
    {
      "cell_type": "code",
      "metadata": {
        "id": "XBHXULzi0cEC"
      },
      "source": [
        "!unzip /gdrive/MyDrive/Proyecto_Probabilidad/probabilidad/cultivos_nacional.zip\n",
        "!unzip /gdrive/MyDrive/Proyecto_Probabilidad/probabilidad/cultivos_nacional_filtrado.zip"
      ],
      "execution_count": null,
      "outputs": []
    },
    {
      "cell_type": "code",
      "metadata": {
        "cellView": "code",
        "id": "DoxlmQUN16l0"
      },
      "source": [
        "%load_ext rpy2.ipython"
      ],
      "execution_count": null,
      "outputs": []
    },
    {
      "cell_type": "code",
      "metadata": {
        "id": "g7DWwlOzHr34"
      },
      "source": [
        "%%R\n",
        "library(dplyr)\n",
        "library(tidyverse)\n",
        "library(ggplot2)\n",
        "install.packages(\"rmarkdown\")\n",
        "# install.packages(\"ggpubr\")\n",
        "# library(ggpubr)"
      ],
      "execution_count": null,
      "outputs": []
    },
    {
      "cell_type": "markdown",
      "metadata": {
        "id": "CXiU-Y2BGlCM"
      },
      "source": [
        "# Se importan los archivos"
      ]
    },
    {
      "cell_type": "code",
      "metadata": {
        "id": "HtcVSBFTrOxo"
      },
      "source": [
        "%%R\n",
        "cultivos_code2name <- read.table(\"/gdrive/MyDrive/Proyecto_Probabilidad/probabilidad/equivalencias_cultivos_code.csv\", sep=\",\", header=TRUE)\n",
        "dep_names = read.table(\"/gdrive/MyDrive/Proyecto_Probabilidad/probabilidad/codigo_depto_a_nombre.csv\",sep=\",\", header=TRUE)\n",
        "regre <- read.table(\"/gdrive/MyDrive/Proyecto_Probabilidad/probabilidad/cultivos_nacional_filtrado.csv\", sep=\",\", header=TRUE)"
      ],
      "execution_count": null,
      "outputs": []
    },
    {
      "cell_type": "markdown",
      "metadata": {
        "id": "Gu6tvGb2G00y"
      },
      "source": [
        "# Codigo para encontrar el departamento mas afectado"
      ]
    },
    {
      "cell_type": "code",
      "metadata": {
        "id": "XBVPLP-mUw2D"
      },
      "source": [
        "%%R\n",
        "df_dep_names = as.data.frame(dep_names)\n",
        "colnames(df_dep_names) = c(\"departamento\",\"nombre_departamento\")\n",
        "\n",
        "#Total del area sembrada desde 1920 hasta 2013 de cada departamento\n",
        "suma_areas_sembradas = regre %>%\n",
        "group_by(P_DEPTO) %>%\n",
        "summarise(total_cultivado=sum(AREA_SEMBRADA))\n",
        "df_suma_areas_sembradas = as.data.frame(suma_areas_sembradas)\n",
        "\n",
        "df_suma_areas_sembradas = arrange(df_suma_areas_sembradas,desc(total_cultivado))\n",
        "colnames(df_suma_areas_sembradas) <- c(\"departamento\", \"total_cultivos\")\n",
        "df_suma_areas_sembradas = na.omit(df_suma_areas_sembradas)\n",
        "df_merge_suma_areas_sembradas = filter(df_suma_areas_sembradas, departamento != 63)\n",
        "df_merge_suma_areas_sembradas = merge(df_merge_suma_areas_sembradas,df_dep_names,by=\"departamento\")\n",
        "print(df_merge_suma_areas_sembradas[,-c(1)])\n",
        "#---------------------------------------------------------------------\n",
        "\n",
        "# Total cultivos afectados\n",
        "afectados = filter(regre,P_S6P60 != 12) #Elimina de la tabla los cultivos que no fueron afectados\n",
        "\n",
        "# Calculo de el area perdida \n",
        "# (le restamos al area sembrada el area cosechada, para encontrar cuanto se perdio en cada reporte)\n",
        "diferencia_areas <- afectados %>%\n",
        "summarise(afectacion = P_S6P60,departamento = P_DEPTO,res_area = AREA_SEMBRADA-AREA_COSECHADA)\n",
        "# print(diferencia_areas[1:10,])\n",
        "\n",
        "# Total de area perdida (desde 1920 hasta 2013) de departamento \n",
        "# (Sumamos todas las perdidas de la anterior tabla para encontrar el total de area perdida)\n",
        "suma_diferencia_areas = diferencia_areas %>%\n",
        "group_by(departamento) %>%\n",
        "summarise(total_afectado=sum(res_area))\n",
        "\n",
        "df_suma_diferencia_areas = as.data.frame(suma_diferencia_areas)\n",
        "df_suma_diferencia_areas = arrange(df_suma_diferencia_areas,desc(total_afectado))\n",
        "df_suma_diferencia_areas = na.omit(df_suma_diferencia_areas)\n",
        "df_suma_diferencia_areas = na.omit(full_join(df_suma_diferencia_areas,df_dep_names,by=\"departamento\"))\n",
        "print(df_suma_diferencia_areas[,-c(1)])\n",
        "\n",
        "# Union de tablas\n",
        "u_tablas = merge(df_merge_suma_areas_sembradas, df_suma_diferencia_areas, by = \"departamento\")\n",
        "porcentajes_departamentos = u_tablas %>%\n",
        "summarise(departamento,porcentaje_afectado=round((total_afectado*100)/total_cultivos, digits=5))\n",
        "porcentajes_departamentos = merge(porcentajes_departamentos,df_dep_names[-c(19),],by=\"departamento\")\n",
        "porcentajes_departamentos = arrange(porcentajes_departamentos,desc(porcentaje_afectado))\n",
        "print(porcentajes_departamentos[,-c(1)])\n",
        "\n",
        "# pdf(file=\"area_afectada_nacional.pdf\", width=9, height=8)\n",
        "# ggplot(df_suma_diferencia_areas, aes(x=nombre_departamento, y=total_afectado, fill=total_afectado))+geom_bar(stat=\"identity\")+ coord_flip()+labs(colors=\"Area afectada\\n\",x = \"Departamento\", y = \"Area afectada\", title = \"Area de los cultivos de los departamentos afectados\")"
      ],
      "execution_count": null,
      "outputs": []
    },
    {
      "cell_type": "markdown",
      "metadata": {
        "id": "pYYsIKqFHA62"
      },
      "source": [
        "# Funciones para encontrar los cultivos afectados por departamento"
      ]
    },
    {
      "cell_type": "code",
      "metadata": {
        "id": "ytGzwG-i55Z8"
      },
      "source": [
        "%%R\n",
        "cultivos_sembrados <- function(df){\n",
        "  suma_areas_sembradas = df %>%\n",
        "  group_by(P_S6P46) %>%\n",
        "  summarise(total_cultivado=sum(AREA_SEMBRADA))\n",
        "\n",
        "  df_suma_areas_sembradas = as.data.frame(suma_areas_sembradas)\n",
        "  df_suma_areas_sembradas = arrange(df_suma_areas_sembradas,desc(total_cultivado))\n",
        "  colnames(df_suma_areas_sembradas) <- c(\"cultivo_id\", \"total_cultivos\")\n",
        "  df_suma_areas_sembradas = na.omit(df_suma_areas_sembradas)\n",
        "  df_merge_suma_areas_sembradas = filter(df_suma_areas_sembradas)\n",
        "  # print(df_merge_suma_areas_sembradas[1:10,]) #------------------\n",
        "  #---------------------------------------------------------------------\n",
        "  graf_afectadas = full_join(df_merge_suma_areas_sembradas, cultivos_code2name, by=\"cultivo_id\")\n",
        "  graf_afectadas = na.omit(graf_afectadas)\n",
        "}\n",
        "\n",
        "afec_por_cultivo <- function(afec) {\n",
        "  # Calculo de el area perdida\n",
        "  # (le restamos al area sembrada el area cosechada, para encontrar cuanto se perdio en cada reporte)\n",
        "  diferencia_areas <- afec %>%\n",
        "  summarise(afectacion = P_S6P60,cultivo_id = P_S6P46,res_area = AREA_SEMBRADA-AREA_COSECHADA)\n",
        "  # print(diferencia_areas[1:10,])\n",
        "\n",
        "  # Total de area perdida (desde 1920 hasta 2013) de cultivo_id\n",
        "  # (Sumamos todas las perdidas de la anterior tabla para encontrar el total de area perdida)\n",
        "  suma_diferencia_areas = diferencia_areas %>%\n",
        "  group_by(cultivo_id) %>%\n",
        "  summarise(total_afectado=sum(res_area))\n",
        "\n",
        "  df_suma_diferencia_areas = as.data.frame(suma_diferencia_areas)\n",
        "  df_suma_diferencia_areas = arrange(df_suma_diferencia_areas,desc(total_afectado))\n",
        "  df_suma_diferencia_areas = na.omit(df_suma_diferencia_areas)\n",
        "  # print(df_suma_diferencia_areas[1:10,]) #------------------\n",
        "  graf_afectadas = full_join(df_suma_diferencia_areas, cultivos_code2name, by=\"cultivo_id\")\n",
        "  graf_afectadas = na.omit(graf_afectadas)\n",
        "\n",
        "  # Union de tablas\n",
        "  # u_tablas = merge(df_merge_suma_areas_sembradas, df_suma_diferencia_areas, by = \"departamento\")\n",
        "  # porcentajes_departamentos = u_tablas %>%\n",
        "  # summarise(departamento,porcentaje_afectado=round((total_afectado*100)/total_cultivos, digits=5))\n",
        "  # porcentajes_departamentos = merge(porcentajes_departamentos,df_dep_names[-c(19),],by=\"departamento\")\n",
        "  # porcentajes_departamentos = arrange(porcentajes_departamentos,desc(porcentaje_afectado))\n",
        "  # print(porcentajes_departamentos[,-c(1)])\n",
        "}\n"
      ],
      "execution_count": null,
      "outputs": []
    },
    {
      "cell_type": "markdown",
      "metadata": {
        "id": "WnSjWEMjHLi2"
      },
      "source": [
        "# Codigo para encontrar el total afectado nacional por area"
      ]
    },
    {
      "cell_type": "code",
      "metadata": {
        "id": "o8QpuEljZNp2"
      },
      "source": [
        "%%R\n",
        "cat(\"total nacional\\n \\n\")\n",
        "total_semb_nacional <- cultivos_sembrados(regre)\n",
        "print(total_semb_nacional[1:10,])\n",
        "\n",
        "cat(\"\\n total afectado nacional \\n \\n\")\n",
        "afectados = filter(regre,P_S6P60 != 12)\n",
        "# print(afectados[1:10,])\n",
        "nacional_afec <- afec_por_cultivo(afectados)\n",
        "print(nacional_afec[1:10,])\n",
        "pdf(file=\"afectado_cultivo_nacional.pdf\", width=9, height=8)\n",
        "ggplot(nacional_afec[1:10,], aes(x=nombre, y=total_afectado, fill=total_afectado))+geom_bar(stat=\"identity\")+ coord_flip()+labs(colors=\"Area afectada\\n\",x = \"Cultivo\", y = \"Area afectada\", title = \"Top 10 cultivos mas afectados por area nacional\")"
      ],
      "execution_count": null,
      "outputs": []
    },
    {
      "cell_type": "markdown",
      "metadata": {
        "id": "hlgH0L5eHo8y"
      },
      "source": [
        "# Cultivos afectados en Archipielago"
      ]
    },
    {
      "cell_type": "code",
      "metadata": {
        "colab": {
          "base_uri": "https://localhost:8080/"
        },
        "id": "ZR90C2y68Akb",
        "outputId": "ae3f7681-ae34-48cb-cff5-026283dbf61b"
      },
      "source": [
        "%%R\n",
        "df_afectados <- as.data.frame(afectados)\n",
        "archi <- filter(regre, P_DEPTO == 88)\n",
        "\n",
        "afectado_archi <- afec_por_cultivo(archi)\n",
        "print(afectado_archi[1:10,])\n",
        "\n",
        "# pdf(file=\"porcentaje_afectado_cultivo_archipielago.pdf\", width=9, height=8)\n",
        "# ggplot(afectado_archi[1:10,], aes(x=nombre, y=total_afectado, fill=total_afectado))+geom_bar(stat=\"identity\")+ coord_flip()+labs(colors=\"Porcentaje afectado\\n\",x = \"Cultivo\", y = \"Porcentaje afectado\", title = \"Top 10 cultivos mas afectados por area Archipielago\")"
      ],
      "execution_count": 60,
      "outputs": [
        {
          "output_type": "stream",
          "text": [
            "   cultivo_id total_afectado     nombre\n",
            "1   159201001      29.418644      Yuca \n",
            "2   131201001      11.271970    Banano \n",
            "3   123502001      10.615705   Ahuyama \n",
            "4   131801001       7.851949       Piña\n",
            "5   159301001       7.008000      Ñame \n",
            "6   191999066       7.000000   Guandul \n",
            "7   191999056       5.490000     Fríjol\n",
            "8   123102001       3.285500 Pimentón  \n",
            "9   132301002       2.924528    Naranja\n",
            "10  146001001       2.870230       Coco\n"
          ],
          "name": "stdout"
        }
      ]
    },
    {
      "cell_type": "markdown",
      "metadata": {
        "id": "7XweEulBHx-Y"
      },
      "source": [
        ""
      ]
    },
    {
      "cell_type": "markdown",
      "metadata": {
        "id": "2njtjLAPH1ob"
      },
      "source": [
        "# Cultivos afectados en Choco"
      ]
    },
    {
      "cell_type": "code",
      "metadata": {
        "colab": {
          "base_uri": "https://localhost:8080/"
        },
        "id": "tKRv7CnGVX2Z",
        "outputId": "cee58934-78b6-400b-c24f-b062c797ea67"
      },
      "source": [
        "%%R\n",
        "choco <- filter(regre, P_DEPTO == 27)\n",
        "\n",
        "afectado_choco <- afec_por_cultivo(choco)\n",
        "print(afectado_choco[1:10,])\n"
      ],
      "execution_count": 62,
      "outputs": [
        {
          "output_type": "stream",
          "text": [
            "   cultivo_id total_afectado         nombre\n",
            "1   159201001      3674.9850          Yuca \n",
            "2   112201002      1477.4634 Maíz Amarillo \n",
            "3   159301001      1067.0796          Ñame \n",
            "4   131301001       513.6640       Platano \n",
            "5   112201001       499.9409   Maíz Blanco \n",
            "6   131906001       496.1912        Borojo \n",
            "7   129001001       350.8791       Guatila \n",
            "8   131201001       314.3116        Banano \n",
            "9   146001001       247.9906           Coco\n",
            "10  180201002       139.8706  Caña panelera\n"
          ],
          "name": "stdout"
        }
      ]
    },
    {
      "cell_type": "code",
      "metadata": {
        "id": "DV1JGGGAMghs"
      },
      "source": [
        "%%R\n",
        "graf_barra <- function(df,eje_x,eje_y){\n",
        "    ggplot(data=df, aes(x=eje_x, y=eje_y, fill=eje_x)) + \n",
        "    geom_bar(stat=\"identity\", position=\"dodge\")\n",
        "}\n",
        "graf_puntos <- function(df,eje_x,eje_y, ex_color){\n",
        "    ggplot(data=df, aes(x=eje_x, y=eje_y, color=ex_color)) + \n",
        "    geom_point(size = 5, alpha = 1/2) + scale_color_gradientn(colours = rainbow(12))\n",
        "}"
      ],
      "execution_count": 63,
      "outputs": []
    },
    {
      "cell_type": "code",
      "metadata": {
        "id": "REKjXiuANG3O"
      },
      "source": [
        "%%R\n",
        "# print(archi[1:10,])\n",
        "afec_archi_graf = filter(archi, P_S6P46==159201001)\n",
        "print(afec_archi_graf[1:10,])\n",
        "\n",
        "graf_puntos(afec_archi_graf,afec_archi_graf$P_S6P59_UNIF, afec_archi_graf$AREA_COSECHADA, afec_archi_graf$P_S6P60)+labs(x=\"x\", y=\"y\", color=\"afec\\n\", title=\"Regre\")"
      ],
      "execution_count": null,
      "outputs": []
    },
    {
      "cell_type": "code",
      "metadata": {
        "id": "f-FdiyGQLzGq"
      },
      "source": [
        "%%R\n",
        "# Total cultivos afectados\n",
        "afectados = filter(regre,P_S6P60 != 12) #Elimina de la tabla los cultivos que no fueron afectados\n",
        "\n",
        "cultivo_nacional_afectado <- afec_por_cultivo(afectados)"
      ],
      "execution_count": null,
      "outputs": []
    },
    {
      "cell_type": "code",
      "metadata": {
        "id": "UNd8wODQhP3K"
      },
      "source": [
        "%%R\n",
        "graf_puntos(afectados, afectados$P_S6P59_UNIF,afectados$AREA_SEMBRADA, afectados$P_S6P60)+labs(x=\"x\", y=\"y\", color=\"afec\\n\", title=\"Regre\")"
      ],
      "execution_count": null,
      "outputs": []
    },
    {
      "cell_type": "markdown",
      "metadata": {
        "id": "eT9QQJ02JW9K"
      },
      "source": [
        "# Regrecion lineal con el departamento Choco"
      ]
    },
    {
      "cell_type": "code",
      "metadata": {
        "colab": {
          "base_uri": "https://localhost:8080/"
        },
        "id": "eT2kQQSRlv-R",
        "outputId": "a2376468-c45c-48d7-f607-3b3dcffa419f"
      },
      "source": [
        "%%R\n",
        "regre_lin <- function(ex_data,ex_x,ex_y, ex_color){\n",
        "    lm.fit <- lm(data= ex_data,ex_y ~ ex_x,na.action=na.exclude)\n",
        "    sumar = summary(lm.fit)\n",
        "    cat(\"Regresion lineal \\n \\n\")\n",
        "    print(summary(lm.fit))\n",
        "    cat(\"\\n\")\n",
        "}\n",
        "choco <- as.data.frame(afectados[afectados$P_DEPTO==27,])\n",
        "choco <- na.omit(choco)\n",
        "regre_lin(choco, choco$P_S6P47B, choco$AREA_COSECHADA, choco$P_S6P47B)"
      ],
      "execution_count": 72,
      "outputs": [
        {
          "output_type": "stream",
          "text": [
            "Regresion lineal \n",
            " \n",
            "\n",
            "Call:\n",
            "lm(formula = ex_y ~ ex_x, data = ex_data, na.action = na.exclude)\n",
            "\n",
            "Residuals:\n",
            "    Min      1Q  Median      3Q     Max \n",
            " -1.425  -0.830  -0.473   0.298 170.993 \n",
            "\n",
            "Coefficients:\n",
            "              Estimate Std. Error t value Pr(>|t|)    \n",
            "(Intercept) -57.358814   2.906102  -19.74   <2e-16 ***\n",
            "ex_x          0.029206   0.001451   20.12   <2e-16 ***\n",
            "---\n",
            "Signif. codes:  0 ‘***’ 0.001 ‘**’ 0.01 ‘*’ 0.05 ‘.’ 0.1 ‘ ’ 1\n",
            "\n",
            "Residual standard error: 2.218 on 26601 degrees of freedom\n",
            "Multiple R-squared:  0.015,\tAdjusted R-squared:  0.01496 \n",
            "F-statistic:   405 on 1 and 26601 DF,  p-value: < 2.2e-16\n",
            "\n",
            "\n"
          ],
          "name": "stdout"
        }
      ]
    },
    {
      "cell_type": "markdown",
      "metadata": {
        "id": "nS-RSyN1J8Yn"
      },
      "source": [
        "# Regrecion exponencial con el departamento Choco"
      ]
    },
    {
      "cell_type": "code",
      "metadata": {
        "colab": {
          "base_uri": "https://localhost:8080/"
        },
        "id": "6US6avVDACya",
        "outputId": "da27fc62-7df3-40d7-e636-12a6dab7d4e5"
      },
      "source": [
        "%%R\n",
        "regre_exp <- function(ex_data,ex_x,ex_y, ex_color){\n",
        "    lm.fit <- lm(data= ex_data,log(ex_y) ~ ex_x)\n",
        "    cat(\"Regresion log \\n \\n\")\n",
        "    print(summary(lm.fit))\n",
        "    cat(\"\\n\")\n",
        "}\n",
        "choco <- as.data.frame(afectados[afectados$P_DEPTO==27,])\n",
        "choco <- na.omit(choco)\n",
        "regre_exp(choco, choco$P_S6P47B, choco$AREA_COSECHADA, choco$P_S6P47B)"
      ],
      "execution_count": 73,
      "outputs": [
        {
          "output_type": "stream",
          "text": [
            "Regresion log \n",
            " \n",
            "\n",
            "Call:\n",
            "lm(formula = log(ex_y) ~ ex_x, data = ex_data)\n",
            "\n",
            "Residuals:\n",
            "    Min      1Q  Median      3Q     Max \n",
            "-4.5920 -0.9594  0.2948  1.1500  6.3331 \n",
            "\n",
            "Coefficients:\n",
            "              Estimate Std. Error t value Pr(>|t|)    \n",
            "(Intercept) -80.173674   2.025471  -39.58   <2e-16 ***\n",
            "ex_x          0.039619   0.001012   39.17   <2e-16 ***\n",
            "---\n",
            "Signif. codes:  0 ‘***’ 0.001 ‘**’ 0.01 ‘*’ 0.05 ‘.’ 0.1 ‘ ’ 1\n",
            "\n",
            "Residual standard error: 1.546 on 26601 degrees of freedom\n",
            "Multiple R-squared:  0.05453,\tAdjusted R-squared:  0.05449 \n",
            "F-statistic:  1534 on 1 and 26601 DF,  p-value: < 2.2e-16\n",
            "\n",
            "\n"
          ],
          "name": "stdout"
        }
      ]
    },
    {
      "cell_type": "markdown",
      "metadata": {
        "id": "eA3uy1wFKm6A"
      },
      "source": [
        "# Regrecion polinomial con el departamento Choco"
      ]
    },
    {
      "cell_type": "code",
      "metadata": {
        "id": "M_aJthQjA1uY",
        "colab": {
          "base_uri": "https://localhost:8080/"
        },
        "outputId": "3373208a-ca57-4081-daa4-9d58c2375db8"
      },
      "source": [
        "%%R\n",
        "regre_pol <- function(ex_data,ex_x,ex_y, ex_color){\n",
        "    lm.fit <- lm(data= ex_data,log(ex_y) ~ poly(ex_x,2))\n",
        "    cat(\"Regresion log \\n \\n\")\n",
        "    print(summary(lm.fit))\n",
        "    cat(\"\\n\")\n",
        "    # ggplot(ex_data, aes(x=ex_x, y=ex_y,color=ex_color))+geom_smooth(method=\"exp\", colour = \"red\")+ \n",
        "    # geom_point(size = 5, alpha = 1/5) + scale_color_gradientn(colours = rainbow(6))\n",
        "}\n",
        "choco <- as.data.frame(afectados[afectados$P_DEPTO==27,])\n",
        "choco <- na.omit(choco)\n",
        "regre_pol(choco, choco$P_S6P47B, choco$AREA_COSECHADA, choco$P_S6P47B)"
      ],
      "execution_count": 74,
      "outputs": [
        {
          "output_type": "stream",
          "text": [
            "Regresion log \n",
            " \n",
            "\n",
            "Call:\n",
            "lm(formula = log(ex_y) ~ poly(ex_x, 2), data = ex_data)\n",
            "\n",
            "Residuals:\n",
            "    Min      1Q  Median      3Q     Max \n",
            "-4.6435 -0.9682  0.3064  1.1011  6.3602 \n",
            "\n",
            "Coefficients:\n",
            "                Estimate Std. Error t value Pr(>|t|)    \n",
            "(Intercept)    -0.840449   0.009454  -88.90   <2e-16 ***\n",
            "poly(ex_x, 2)1 60.562662   1.541945   39.28   <2e-16 ***\n",
            "poly(ex_x, 2)2 18.801724   1.541945   12.19   <2e-16 ***\n",
            "---\n",
            "Signif. codes:  0 ‘***’ 0.001 ‘**’ 0.01 ‘*’ 0.05 ‘.’ 0.1 ‘ ’ 1\n",
            "\n",
            "Residual standard error: 1.542 on 26600 degrees of freedom\n",
            "Multiple R-squared:  0.05978,\tAdjusted R-squared:  0.05971 \n",
            "F-statistic: 845.7 on 2 and 26600 DF,  p-value: < 2.2e-16\n",
            "\n",
            "\n"
          ],
          "name": "stdout"
        }
      ]
    },
    {
      "cell_type": "markdown",
      "metadata": {
        "id": "FPZI1GoPCfgg"
      },
      "source": [
        "# Convertir Jupyter a Rmarkdown"
      ]
    },
    {
      "cell_type": "code",
      "metadata": {
        "id": "TTrYYaW_7PJu"
      },
      "source": [
        "%%R\n",
        "# library(rmarkdown)\n",
        "ipynb_file = rmarkdown:::convert_ipynb(\"/content/proyecto_proba.ipynb\")\n",
        "st_nb_rmd = xfun::file_string(ipynb_file)\n",
        "fileConn <- file(\"/content/proyecto_proba.rmd\")\n",
        "writeLines(st_nb_rmd, fileConn)\n",
        "close(fileConn)"
      ],
      "execution_count": 58,
      "outputs": []
    }
  ]
}