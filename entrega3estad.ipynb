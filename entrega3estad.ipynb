{
  "nbformat": 4,
  "nbformat_minor": 0,
  "metadata": {
    "colab": {
      "name": "entrega3estad2.ipynb",
      "provenance": [],
      "collapsed_sections": [],
      "include_colab_link": true
    },
    "kernelspec": {
      "name": "python3",
      "display_name": "Python 3"
    },
    "language_info": {
      "name": "python"
    }
  },
  "cells": [
    {
      "cell_type": "markdown",
      "metadata": {
        "id": "view-in-github",
        "colab_type": "text"
      },
      "source": [
        "<a href=\"https://colab.research.google.com/github/JUANITOTELO/Proyecto_Agro_Proba/blob/main/entrega3estad.ipynb\" target=\"_parent\"><img src=\"https://colab.research.google.com/assets/colab-badge.svg\" alt=\"Open In Colab\"/></a>"
      ]
    },
    {
      "cell_type": "code",
      "metadata": {
        "colab": {
          "base_uri": "https://localhost:8080/"
        },
        "id": "HSBG2gpPj4gd",
        "outputId": "0ae5850b-62fd-4c6f-fa1a-bd29e39e9ba6"
      },
      "source": [
        "from google.colab import drive\n",
        "drive.mount('/gdrive', force_remount=True)"
      ],
      "execution_count": null,
      "outputs": [
        {
          "output_type": "stream",
          "text": [
            "Mounted at /gdrive\n"
          ],
          "name": "stdout"
        }
      ]
    },
    {
      "cell_type": "code",
      "metadata": {
        "id": "jMswxboqlk4v"
      },
      "source": [
        "%load_ext rpy2.ipython"
      ],
      "execution_count": null,
      "outputs": []
    },
    {
      "cell_type": "code",
      "metadata": {
        "id": "vGwo-JDnlx99"
      },
      "source": [
        "%%R\n",
        "install.packages('plyr')"
      ],
      "execution_count": null,
      "outputs": []
    },
    {
      "cell_type": "code",
      "metadata": {
        "id": "ecNfPmN0lwM5",
        "colab": {
          "base_uri": "https://localhost:8080/"
        },
        "outputId": "234f3ce6-09df-4c61-e5cf-201c2516efe0"
      },
      "source": [
        "%%R\n",
        "\n",
        "#Instalación y cargado de la librería necesaria para hacer el conteo \n",
        "#de frecuencias de variable categórica\n",
        "library(plyr)\n",
        "library(dplyr)\n",
        "library(tidyverse)\n",
        "library(ggplot2)"
      ],
      "execution_count": null,
      "outputs": [
        {
          "output_type": "stream",
          "text": [
            "R[write to console]: \n",
            "Attaching package: ‘dplyr’\n",
            "\n",
            "\n",
            "R[write to console]: The following objects are masked from ‘package:plyr’:\n",
            "\n",
            "    arrange, count, desc, failwith, id, mutate, rename, summarise,\n",
            "    summarize\n",
            "\n",
            "\n",
            "R[write to console]: The following objects are masked from ‘package:stats’:\n",
            "\n",
            "    filter, lag\n",
            "\n",
            "\n",
            "R[write to console]: The following objects are masked from ‘package:base’:\n",
            "\n",
            "    intersect, setdiff, setequal, union\n",
            "\n",
            "\n",
            "R[write to console]: ── Attaching packages ─────────────────────────────────────── tidyverse 1.3.1 ──\n",
            "\n",
            "R[write to console]: ✔ tibble  3.1.1     ✔ purrr   0.3.4\n",
            "✔ tidyr   1.1.3     ✔ stringr 1.4.0\n",
            "✔ readr   1.4.0     ✔ forcats 0.5.1\n",
            "\n",
            "R[write to console]: ── Conflicts ────────────────────────────────────────── tidyverse_conflicts() ──\n",
            "✖ dplyr::arrange()   masks plyr::arrange()\n",
            "✖ purrr::compact()   masks plyr::compact()\n",
            "✖ dplyr::count()     masks plyr::count()\n",
            "✖ dplyr::failwith()  masks plyr::failwith()\n",
            "✖ dplyr::filter()    masks stats::filter()\n",
            "✖ dplyr::id()        masks plyr::id()\n",
            "✖ dplyr::lag()       masks stats::lag()\n",
            "✖ dplyr::mutate()    masks plyr::mutate()\n",
            "✖ dplyr::rename()    masks plyr::rename()\n",
            "✖ dplyr::summarise() masks plyr::summarise()\n",
            "✖ dplyr::summarize() masks plyr::summarize()\n",
            "\n"
          ],
          "name": "stderr"
        }
      ]
    },
    {
      "cell_type": "markdown",
      "metadata": {
        "id": "iKNJQQF7bHuV"
      },
      "source": [
        "## Cargado del csv principal para los análisis"
      ]
    },
    {
      "cell_type": "code",
      "metadata": {
        "id": "0lvxWsbJmMn7",
        "colab": {
          "base_uri": "https://localhost:8080/"
        },
        "outputId": "2bf1b786-9ee5-4331-e2e3-8a66115f4083"
      },
      "source": [
        "%%R\n",
        "cultivos <- read.table(\"/gdrive/MyDrive/Proyecto_Probabilidad/probabilidad/cultivos_nacional_filtrado.csv\", sep=\",\", header=TRUE)\n",
        "\n",
        "head(cultivos)"
      ],
      "execution_count": null,
      "outputs": [
        {
          "output_type": "stream",
          "text": [
            "  P_DEPTO     P_S6P46 P_S6P47B P_S6P59_UNIF P_S6P60 AREA_SEMBRADA\n",
            "1       5   112201001     2012     3.277476      12     0.9541966\n",
            "2       5   151001001     2013    16.022034      12     0.9541966\n",
            "3       5   151001001     2012    14.948570      12     0.9541966\n",
            "4       5   180201002     2007     3.852656      12     1.3533684\n",
            "5       5   159201001     2013    18.642798      12     0.7151330\n",
            "6       5 16100100101     1997     0.720000      12     0.7151330\n",
            "  AREA_COSECHADA\n",
            "1      0.9541966\n",
            "2      0.9541966\n",
            "3      0.9541966\n",
            "4      1.3533684\n",
            "5      0.7151330\n",
            "6      0.7151330\n"
          ],
          "name": "stdout"
        }
      ]
    },
    {
      "cell_type": "markdown",
      "metadata": {
        "id": "RjbkZbeSbjeG"
      },
      "source": [
        "----\n",
        "Creación de un subdataframe para el primer análisis, a.k.a top 10 de los cultivos más afectados en el país"
      ]
    },
    {
      "cell_type": "code",
      "metadata": {
        "colab": {
          "base_uri": "https://localhost:8080/"
        },
        "id": "iPylV3H1bXvf",
        "outputId": "4d737b41-ec0f-4116-fe3b-affab4105c35"
      },
      "source": [
        "%%R\n",
        "#selección de las columnas que nos interesan para este análisis inicial\n",
        "cultivos_sub_top10 <- subset(cultivos, select=c(\"P_S6P46\", \"P_S6P60\"))\n",
        "cultivos_sub_top10 = data.frame(cultivos_sub_top10)\n",
        "\n",
        "head(cultivos_sub_top10)"
      ],
      "execution_count": null,
      "outputs": [
        {
          "output_type": "stream",
          "text": [
            "      P_S6P46 P_S6P60\n",
            "1   112201001      12\n",
            "2   151001001      12\n",
            "3   151001001      12\n",
            "4   180201002      12\n",
            "5   159201001      12\n",
            "6 16100100101      12\n"
          ],
          "name": "stdout"
        }
      ]
    },
    {
      "cell_type": "code",
      "metadata": {
        "colab": {
          "base_uri": "https://localhost:8080/"
        },
        "id": "QU5u2a4P9Fpp",
        "outputId": "bf9bd313-3f0d-4947-faee-7f006de5b2a0"
      },
      "source": [
        "%%R\n",
        "cultivos_afectados <- cultivos_sub_top10[cultivos_sub_top10$P_S6P60 != 12,]\n",
        "head(cultivos_afectados)"
      ],
      "execution_count": null,
      "outputs": [
        {
          "output_type": "stream",
          "text": [
            "       P_S6P46 P_S6P60\n",
            "63   121903001       2\n",
            "64   125402001       2\n",
            "111  121903001      10\n",
            "112  125402001      10\n",
            "1615 125402001       2\n",
            "1616 123401001       7\n"
          ],
          "name": "stdout"
        }
      ]
    },
    {
      "cell_type": "code",
      "metadata": {
        "colab": {
          "base_uri": "https://localhost:8080/"
        },
        "id": "IALpKdF59_Zf",
        "outputId": "4dcd976c-459e-4755-c62c-d6195be22673"
      },
      "source": [
        "%%R\n",
        "\n",
        "freqs_cult_afect <- count(cultivos_afectados, \"P_S6P46\")\n",
        "freqs_cult_afect <- freqs_cult_afect[order(-freqs_cult_afect$freq),]\n",
        "freqs_cult_afect[0:10,]"
      ],
      "execution_count": null,
      "outputs": [
        {
          "output_type": "stream",
          "text": [
            "      P_S6P46  freq\n",
            "49  131301001 13876\n",
            "3   112201002 12499\n",
            "113 159201001 11001\n",
            "2   112201001  9694\n",
            "109 151001001  7666\n",
            "48  131201001  5818\n",
            "140 191999056  3320\n",
            "135 180201002  3290\n",
            "124 164001001  3256\n",
            "4   113202001  3056\n"
          ],
          "name": "stdout"
        }
      ]
    },
    {
      "cell_type": "markdown",
      "metadata": {
        "id": "4E02du-ja9c8"
      },
      "source": [
        "## carga de csv para obtener equivalencias de código de cultivo a nombre del cultivo"
      ]
    },
    {
      "cell_type": "code",
      "metadata": {
        "colab": {
          "base_uri": "https://localhost:8080/"
        },
        "id": "0TvPoy1hWikH",
        "outputId": "a10c8af9-591f-4945-f729-c6cbf6f08384"
      },
      "source": [
        "%%R\n",
        "cultivos_code2name <- read.table(\"/gdrive/MyDrive/Proyecto_Probabilidad/probabilidad/equivalencias_cultivos_code.csv\", sep=\",\", header=TRUE)\n",
        "\n",
        "head(cultivos_code2name)"
      ],
      "execution_count": null,
      "outputs": [
        {
          "output_type": "stream",
          "text": [
            "  cultivo_id            nombre\n",
            "1  196104035           Abarco \n",
            "2  191999067 Acacia Forrajera \n",
            "3  196104068           Acacio \n",
            "4  196105051   Aceite de maría\n",
            "5  121904001           Acelga \n",
            "6  196104061          Achapo  \n"
          ],
          "name": "stdout"
        }
      ]
    },
    {
      "cell_type": "code",
      "metadata": {
        "id": "sGhw82qXcItk",
        "colab": {
          "base_uri": "https://localhost:8080/"
        },
        "outputId": "21a511d2-0372-437b-c396-e20fba3f6cb4"
      },
      "source": [
        "%%R\n",
        "colnames(cultivos_code2name) <- c(\"P_S6P46\",\"nombre\")\n",
        "freqs_cult_afect_nombre = merge(x = cultivos_code2name, y=freqs_cult_afect, by = \"P_S6P46\", all=FALSE)\n",
        "freqs_cult_afect_nombre = freqs_cult_afect_nombre[order(-freqs_cult_afect_nombre$freq),]\n",
        "freqs_cult_afect_nombre[0:10,]"
      ],
      "execution_count": null,
      "outputs": [
        {
          "output_type": "stream",
          "text": [
            "      P_S6P46         nombre  freq\n",
            "49  131301001       Platano  13876\n",
            "3   112201002 Maíz Amarillo  12499\n",
            "113 159201001          Yuca  11001\n",
            "2   112201001   Maíz Blanco   9694\n",
            "109 151001001         Papas   7666\n",
            "48  131201001        Banano   5818\n",
            "140 191999056         Fríjol  3320\n",
            "135 180201002  Caña panelera  3290\n",
            "124 164001001    Cacao grano  3256\n",
            "4   113202001   Arroz verde   3056\n"
          ],
          "name": "stdout"
        }
      ]
    },
    {
      "cell_type": "code",
      "metadata": {
        "id": "GRnd2_YmgAa4"
      },
      "source": [
        "%%R\n",
        "pdf(file = \"Cantidad de cultivos afectados (nivel nacional) (top 10)\")\n",
        "p <- ggplot(data = freqs_cult_afect_nombre[0:10,], aes(x=nombre, y=freq, fill=freq)) + geom_bar(stat=\"identity\", color=\"black\") +\n",
        "     coord_flip() \n",
        "p <- p + labs(title=\"Cantidad de cultivos afectados (nivel nacional) (top 10)\", x=\"Cultivo\", y = \"Cantidad de cultivos afectados\")\n",
        "p  + theme_minimal()"
      ],
      "execution_count": null,
      "outputs": []
    },
    {
      "cell_type": "markdown",
      "metadata": {
        "id": "gXCJ6tnDjhXO"
      },
      "source": [
        ""
      ]
    },
    {
      "cell_type": "markdown",
      "metadata": {
        "id": "Uqlhe4Lotp1V"
      },
      "source": [
        "# Prueba de hipótesis para la diferencia de medias entre rendimientos de cultivos afectados y no afectados"
      ]
    },
    {
      "cell_type": "code",
      "metadata": {
        "id": "MhfuXZdVtpRP",
        "colab": {
          "base_uri": "https://localhost:8080/"
        },
        "outputId": "a8fe6844-3325-44ec-cec3-a4582b10a28c"
      },
      "source": [
        "%%R\n",
        "#selección de las columnas que nos interesan para este análisis inicial\n",
        "cultivos_hipo <- subset(cultivos, select=c(\"P_S6P46\", \"P_S6P60\", \"P_S6P59_UNIF\"))\n",
        "cultivos_hipo = data.frame(cultivos_hipo)\n",
        "\n",
        "head(cultivos_hipo)"
      ],
      "execution_count": null,
      "outputs": [
        {
          "output_type": "stream",
          "text": [
            "      P_S6P46 P_S6P60 P_S6P59_UNIF\n",
            "1   112201001      12     3.277476\n",
            "2   151001001      12    16.022034\n",
            "3   151001001      12    14.948570\n",
            "4   180201002      12     3.852656\n",
            "5   159201001      12    18.642798\n",
            "6 16100100101      12     0.720000\n"
          ],
          "name": "stdout"
        }
      ]
    },
    {
      "cell_type": "code",
      "metadata": {
        "id": "Jig04Divlha_",
        "colab": {
          "base_uri": "https://localhost:8080/"
        },
        "outputId": "2bf8e3dd-3b89-40dd-8b24-851a902c09fb"
      },
      "source": [
        "%%R\n",
        "\n",
        "#selección de los cultivos afectados y los no afectados en grupos distintos\n",
        "#y borrado de los NA en la columna P_S6P59_UNIF -> 'rendimientos', \n",
        "#también borra las filas que no tienen código\n",
        "cultivos_hipo_afect <- cultivos_hipo[(cultivos_hipo$P_S6P60 != 12),]\n",
        "cultivos_hipo_afect <- cultivos_hipo_afect[complete.cases(cultivos_hipo_afect[,3]),]\n",
        "cultivos_hipo_afect <- cultivos_hipo_afect[complete.cases(cultivos_hipo_afect[,1]),]\n",
        "\n",
        "cultivos_hipo_no_afect <- cultivos_hipo[(cultivos_hipo$P_S6P60 == 12),]\n",
        "cultivos_hipo_no_afect <- cultivos_hipo_no_afect[complete.cases(cultivos_hipo_no_afect[,3]),]\n",
        "cultivos_hipo_no_afect <- cultivos_hipo_no_afect[complete.cases(cultivos_hipo_no_afect[,1]),]\n",
        "\n",
        "head(cultivos_hipo_no_afect)"
      ],
      "execution_count": null,
      "outputs": [
        {
          "output_type": "stream",
          "text": [
            "      P_S6P46 P_S6P60 P_S6P59_UNIF\n",
            "1   112201001      12     3.277476\n",
            "2   151001001      12    16.022034\n",
            "3   151001001      12    14.948570\n",
            "4   180201002      12     3.852656\n",
            "5   159201001      12    18.642798\n",
            "6 16100100101      12     0.720000\n"
          ],
          "name": "stdout"
        }
      ]
    },
    {
      "cell_type": "code",
      "metadata": {
        "colab": {
          "base_uri": "https://localhost:8080/"
        },
        "id": "WhDmeWqm2zuu",
        "outputId": "50ad278b-f26f-4689-b729-96f9c821d1b9"
      },
      "source": [
        "%%R\n",
        "cultivos_hipo_no_afect = merge(x = cultivos_code2name, y=cultivos_hipo_no_afect, by = \"P_S6P46\", all=FALSE)\n",
        "cultivos_hipo_afect = merge(x = cultivos_code2name, y=cultivos_hipo_afect, by = \"P_S6P46\", all=FALSE)\n",
        "\n",
        "head(cultivos_hipo_afect)"
      ],
      "execution_count": null,
      "outputs": [
        {
          "output_type": "stream",
          "text": [
            "    P_S6P46           nombre P_S6P60 P_S6P59_UNIF\n",
            "1 111201001 Trigo en grano         7     3.432202\n",
            "2 111201001 Trigo en grano        10     1.312838\n",
            "3 111201001 Trigo en grano         5     3.277186\n",
            "4 111201001 Trigo en grano        11     3.331678\n",
            "5 111201001 Trigo en grano         7     3.317994\n",
            "6 111201001 Trigo en grano         2     3.320472\n"
          ],
          "name": "stdout"
        }
      ]
    },
    {
      "cell_type": "code",
      "metadata": {
        "colab": {
          "base_uri": "https://localhost:8080/"
        },
        "id": "cLdbQJ-J3UJZ",
        "outputId": "95951308-8f55-4c4b-f115-0138102b652d"
      },
      "source": [
        "%%R\n",
        "platano_triste = cultivos_hipo_afect[cultivos_hipo_afect$nombre == \"Platano \",]\n",
        "platano_feliz = cultivos_hipo_no_afect[cultivos_hipo_no_afect$nombre == \"Platano \",]\n",
        "\n",
        "head(platano_feliz)"
      ],
      "execution_count": null,
      "outputs": [
        {
          "output_type": "stream",
          "text": [
            "         P_S6P46   nombre P_S6P60 P_S6P59_UNIF\n",
            "578315 131301001 Platano       12     5.003673\n",
            "578316 131301001 Platano       12     8.126980\n",
            "578317 131301001 Platano       12     6.186887\n",
            "578318 131301001 Platano       12     6.420560\n",
            "578319 131301001 Platano       12     3.553809\n",
            "578320 131301001 Platano       12     7.520362\n"
          ],
          "name": "stdout"
        }
      ]
    },
    {
      "cell_type": "code",
      "metadata": {
        "colab": {
          "base_uri": "https://localhost:8080/"
        },
        "id": "bwG5bRyG2BZ-",
        "outputId": "3ea107bd-2313-4a66-a6cd-8e3454bada76"
      },
      "source": [
        "%%R\n",
        "n1 = count(platano_feliz, \"nombre\")[,\"n\"]\n",
        "n2 = count(platano_triste, \"nombre\")[,\"n\"]\n",
        "\n",
        "head(n1)\n",
        "head(n2)"
      ],
      "execution_count": null,
      "outputs": [
        {
          "output_type": "stream",
          "text": [
            "[1] 13026\n"
          ],
          "name": "stdout"
        }
      ]
    },
    {
      "cell_type": "code",
      "metadata": {
        "colab": {
          "base_uri": "https://localhost:8080/"
        },
        "id": "rgMwC8z27hPK",
        "outputId": "70e9a811-4114-4b10-c897-8cd836c7f251"
      },
      "source": [
        "%%R\n",
        "mu_1 = mean(platano_feliz[,\"P_S6P59_UNIF\"])\n",
        "mu_2 = mean(platano_triste[,\"P_S6P59_UNIF\"])\n",
        "\n",
        "print(c(mu_1, mu_2))"
      ],
      "execution_count": null,
      "outputs": [
        {
          "output_type": "stream",
          "text": [
            "[1] 5.458774 3.875260\n"
          ],
          "name": "stdout"
        }
      ]
    },
    {
      "cell_type": "code",
      "metadata": {
        "colab": {
          "base_uri": "https://localhost:8080/"
        },
        "id": "8NxOWF_C8NXt",
        "outputId": "72be0790-e246-40f8-e0fe-a78d8983bbe0"
      },
      "source": [
        "%%R\n",
        "sd_1 = sd(platano_feliz[,\"P_S6P59_UNIF\"])\n",
        "sd_2 = sd(platano_triste[,\"P_S6P59_UNIF\"])\n",
        "\n",
        "print(c(sd_1, sd_2))"
      ],
      "execution_count": null,
      "outputs": [
        {
          "output_type": "stream",
          "text": [
            "[1] 1.425433 1.697868\n"
          ],
          "name": "stdout"
        }
      ]
    },
    {
      "cell_type": "markdown",
      "metadata": {
        "id": "gGWy8tg18XtK"
      },
      "source": [
        "cálculo del estadístico de prueba (dado el tamaño de n se puede normalizar).\n",
        "\n",
        "$\\alpha = 0.05$\n",
        "\n",
        "$h_o: \\mu_1 - \\mu_2 = 0$ \n",
        "\n",
        "$h_a: \\mu_1 - \\mu_2 \\neq 0$ \n",
        "\n",
        "$RR: \\{z: |z| > z_{\\alpha/2} \\}$"
      ]
    },
    {
      "cell_type": "code",
      "metadata": {
        "colab": {
          "base_uri": "https://localhost:8080/"
        },
        "id": "O2bIuB3i8W8q",
        "outputId": "fc7620c9-7c60-401e-b5fe-b9d8b8613d4f"
      },
      "source": [
        "%%R\n",
        "std_err = sqrt( ((sd_1^2)/n1) + ((sd_2^2)/n2) )\n",
        "std_err"
      ],
      "execution_count": null,
      "outputs": [
        {
          "output_type": "stream",
          "text": [
            "[1] 0.01506192\n"
          ],
          "name": "stdout"
        }
      ]
    },
    {
      "cell_type": "code",
      "metadata": {
        "colab": {
          "base_uri": "https://localhost:8080/"
        },
        "id": "V5OAb4zX_ofz",
        "outputId": "d9f2a534-f98e-4974-8f81-a7ddc3e3291a"
      },
      "source": [
        "%%R\n",
        "z_alfa_med = qnorm(1-0.025)\n",
        "z = ( (mu_1 - mu_2) - (0))/std_err\n",
        "\n",
        "print(c(z_alfa_med, z))"
      ],
      "execution_count": null,
      "outputs": [
        {
          "output_type": "stream",
          "text": [
            "[1]   1.959964 105.133639\n"
          ],
          "name": "stdout"
        }
      ]
    },
    {
      "cell_type": "markdown",
      "metadata": {
        "id": "zPFbsClDFicb"
      },
      "source": [
        "#### Intervalo de confianza\n",
        "\n",
        "$\\hat{\\theta} \\pm  z_{\\alpha/2} \\cdot \\sigma_{\\hat{\\theta}}$"
      ]
    },
    {
      "cell_type": "code",
      "metadata": {
        "colab": {
          "base_uri": "https://localhost:8080/"
        },
        "id": "dtkEnfQyFg_K",
        "outputId": "bb6a3dd7-b542-4bfc-abbf-64db95bffb46"
      },
      "source": [
        "%%R\n",
        "\n",
        "intervalo_conf = c(z - z_alfa_med *std_err, z + z_alfa_med *std_err)\n",
        "print(intervalo_conf)"
      ],
      "execution_count": null,
      "outputs": [
        {
          "output_type": "stream",
          "text": [
            "[1] 105.1041 105.1632\n"
          ],
          "name": "stdout"
        }
      ]
    },
    {
      "cell_type": "markdown",
      "metadata": {
        "id": "SZsK_4MrHJOT"
      },
      "source": [
        "Al analizar que este intervalo de confianza está por mucho dentro del rango positivo vemos que, $\\mu_1 > \\mu_2$, es decir que un cultivo no afectado tiene mejores rendimientos"
      ]
    },
    {
      "cell_type": "code",
      "metadata": {
        "colab": {
          "base_uri": "https://localhost:8080/"
        },
        "id": "g1vlDzEhEeMI",
        "outputId": "df0c8c0d-fbd8-47da-ee8b-569b8e627097"
      },
      "source": [
        "%%R\n",
        "p_valor = pnorm(z, lower.tail =FALSE)*2\n",
        "print(p_valor)"
      ],
      "execution_count": null,
      "outputs": [
        {
          "output_type": "stream",
          "text": [
            "[1] 0\n"
          ],
          "name": "stdout"
        }
      ]
    },
    {
      "cell_type": "markdown",
      "metadata": {
        "id": "8LY3TexGENSS"
      },
      "source": [
        "### Con lo anterior rechazamos rotundamente que la diferencia de medias es cero, luego que un cultivo se vea afectado por algún factor ambiental incide en su rendimiento"
      ]
    },
    {
      "cell_type": "markdown",
      "metadata": {
        "id": "8D-NGKHbJIWx"
      },
      "source": [
        "## cálculo del error $\\beta$"
      ]
    },
    {
      "cell_type": "code",
      "metadata": {
        "colab": {
          "base_uri": "https://localhost:8080/"
        },
        "id": "Q9A5u8VTJHgP",
        "outputId": "27c0a946-ab63-4eeb-81b6-6d6c3c8e9c49"
      },
      "source": [
        "%%R\n",
        "\n",
        "diff_alt = 6*std_err\n",
        "print(diff_alt)\n",
        "\n",
        "k = (z_alfa_med * std_err) + 0\n",
        "print(k)\n",
        "\n",
        "pnorm( (k- 6*std_err)/std_err )"
      ],
      "execution_count": null,
      "outputs": [
        {
          "output_type": "stream",
          "text": [
            "[1] 0.09037151\n",
            "[1] 0.02952082\n",
            "[1] 2.67215e-05\n"
          ],
          "name": "stdout"
        }
      ]
    },
    {
      "cell_type": "markdown",
      "metadata": {
        "id": "f92hdkTYZyiu"
      },
      "source": [
        "Se puede concluir que con total certeza hay una diferencia considerable en las medias, al todos los parametros probabilisticos que hallamos decir que hay que rechazar rotundamente H0. Ademas por la naturaleza de los resultados se puede decir que M1 es mayor a M2 con total certeza, por lo cual podemos decir que definitivamente hay una reduccion en el rendimiento de los cultivos de Platano cuando son afectados por algun agente externo negativo. "
      ]
    },
    {
      "cell_type": "markdown",
      "metadata": {
        "id": "td3Ye0xUoozF"
      },
      "source": [
        "A partir de aqui haremos esta misma prueba de hipotesis pero para todas las especies de cultivos."
      ]
    },
    {
      "cell_type": "code",
      "metadata": {
        "colab": {
          "base_uri": "https://localhost:8080/"
        },
        "id": "41sTO4lkcqnr",
        "outputId": "0d807e05-2898-49b9-f259-6e6f594c6d85"
      },
      "source": [
        "%%R\n",
        "cultivos_hipo_no_afect[1:10,]\n"
      ],
      "execution_count": null,
      "outputs": [
        {
          "output_type": "stream",
          "text": [
            "     P_S6P46           nombre P_S6P60 P_S6P59_UNIF\n",
            "1  111201001 Trigo en grano        12     2.063049\n",
            "2  111201001 Trigo en grano        12     3.438222\n",
            "3  111201001 Trigo en grano        12     2.360736\n",
            "4  111201001 Trigo en grano        12     2.412808\n",
            "5  111201001 Trigo en grano        12     3.411425\n",
            "6  111201001 Trigo en grano        12     2.408018\n",
            "7  111201001 Trigo en grano        12     3.411425\n",
            "8  111201001 Trigo en grano        12     3.411425\n",
            "9  111201001 Trigo en grano        12     3.102294\n",
            "10 111201001 Trigo en grano        12     3.411425\n"
          ],
          "name": "stdout"
        }
      ]
    },
    {
      "cell_type": "code",
      "metadata": {
        "colab": {
          "base_uri": "https://localhost:8080/"
        },
        "id": "nJlMmsDh3RC4",
        "outputId": "2c3af96c-8924-4fa5-b60d-a6dfe32e18ca"
      },
      "source": [
        "%%R\n",
        "n_afect = aggregate(cultivos_hipo_afect$P_S6P59_UNIF, list(cultivos_hipo_afect$nombre), length)\n",
        "n_no_afect = aggregate(cultivos_hipo_no_afect$P_S6P59_UNIF, list(cultivos_hipo_no_afect$nombre), length)\n",
        "\n",
        "colnames(n_afect) <- c(\"Group.1\",\"n_triste\")\n",
        "colnames(n_no_afect) <- c(\"Group.1\",\"n_feliz\")\n",
        "\n",
        "n_no_afect[1:10,]"
      ],
      "execution_count": null,
      "outputs": [
        {
          "output_type": "stream",
          "text": [
            "                   Group.1 n_feliz\n",
            "1                  Abarco       16\n",
            "2                  Acacio      236\n",
            "3          Aceite de maría       8\n",
            "4                  Acelga      859\n",
            "5                 Achapo         5\n",
            "6                  Achiote     554\n",
            "7                 Achiras    16164\n",
            "8  Agapanto (Flor de amor)      55\n",
            "9                Aguacate    37596\n",
            "10                Ahuyama    10627\n"
          ],
          "name": "stdout"
        }
      ]
    },
    {
      "cell_type": "code",
      "metadata": {
        "colab": {
          "base_uri": "https://localhost:8080/"
        },
        "id": "D-CCrLRD6w7C",
        "outputId": "497b6e75-fb79-43ca-f76b-c935031a1796"
      },
      "source": [
        "%%R\n",
        "n_cults = merge(x = n_afect, y= n_no_afect, by = \"Group.1\", all=FALSE)\n",
        "n_cults[1:10,]"
      ],
      "execution_count": null,
      "outputs": [
        {
          "output_type": "stream",
          "text": [
            "                   Group.1 n_triste n_feliz\n",
            "1                  Abarco         2      16\n",
            "2                  Acacio         1     236\n",
            "3                  Acelga        25     859\n",
            "4                  Achiote       47     554\n",
            "5                 Achiras        25   16164\n",
            "6  Agapanto (Flor de amor)        1      55\n",
            "7                Aguacate       419   37596\n",
            "8                 Ahuyama       672   10627\n",
            "9       Ajíes y pimientos       362    8008\n",
            "10               Ajonjolí        45     223\n"
          ],
          "name": "stdout"
        }
      ]
    },
    {
      "cell_type": "code",
      "metadata": {
        "id": "Xr6a07mDfYsM",
        "colab": {
          "base_uri": "https://localhost:8080/"
        },
        "outputId": "574fb789-2cd8-4d20-ad37-566a547596f2"
      },
      "source": [
        "%%R\n",
        "medias_afect = aggregate(cultivos_hipo_afect[,4], list(cultivos_hipo_afect$nombre), mean, na.rm=TRUE)\n",
        "sd_afect = aggregate(cultivos_hipo_afect[,4], list(cultivos_hipo_afect$nombre), sd, na.rm=TRUE)\n",
        "\n",
        "colnames(medias_afect) <- c(\"Group.1\", \"y_bar_triste\")\n",
        "colnames(sd_afect) <- c(\"Group.1\", \"sd_triste\")\n",
        "\n",
        "print(medias_afect[1:4,])\n",
        "print(sd_afect[1:4,])"
      ],
      "execution_count": null,
      "outputs": [
        {
          "output_type": "stream",
          "text": [
            "  Group.1 y_bar_triste\n",
            "1 Abarco        8.4000\n",
            "2 Acacio        6.6000\n",
            "3 Acelga       10.6024\n",
            "4 Achiote       0.5000\n",
            "  Group.1 sd_triste\n",
            "1 Abarco   0.000000\n",
            "2 Acacio         NA\n",
            "3 Acelga   4.192021\n",
            "4 Achiote  0.000000\n"
          ],
          "name": "stdout"
        }
      ]
    },
    {
      "cell_type": "code",
      "metadata": {
        "id": "4DHwC4Ftc5EB",
        "colab": {
          "base_uri": "https://localhost:8080/"
        },
        "outputId": "77f2e3f2-c280-43d5-a3fe-9409d2da4d76"
      },
      "source": [
        "%%R\n",
        "medias_no_afect = aggregate(cultivos_hipo_no_afect[,4], list(cultivos_hipo_no_afect$nombre), mean, na.rm=TRUE)\n",
        "sd_no_afect = aggregate(cultivos_hipo_no_afect[,4], list(cultivos_hipo_no_afect$nombre), sd, na.rm=TRUE)\n",
        "\n",
        "colnames(medias_no_afect) <- c(\"Group.1\", \"y_bar_feliz\")\n",
        "colnames(sd_no_afect) <- c(\"Group.1\", \"sd_feliz\")\n",
        "\n",
        "print(medias_no_afect[1:4,])\n",
        "print(sd_no_afect[1:4,])"
      ],
      "execution_count": null,
      "outputs": [
        {
          "output_type": "stream",
          "text": [
            "          Group.1 y_bar_feliz\n",
            "1         Abarco     8.024050\n",
            "2         Acacio     6.382595\n",
            "3 Aceite de maría    7.955736\n",
            "4         Acelga     9.975504\n",
            "          Group.1  sd_feliz\n",
            "1         Abarco  0.9363562\n",
            "2         Acacio  2.0033063\n",
            "3 Aceite de maría 1.1602724\n",
            "4         Acelga  4.6103268\n"
          ],
          "name": "stdout"
        }
      ]
    },
    {
      "cell_type": "code",
      "metadata": {
        "colab": {
          "base_uri": "https://localhost:8080/"
        },
        "id": "jtXggM0Lj59f",
        "outputId": "d20728b2-e09c-4066-f65e-3ae4dc0cd8cd"
      },
      "source": [
        "%%R\n",
        "medias_rendimiento = merge(x = medias_afect, y= medias_no_afect, by = \"Group.1\", all=FALSE)\n",
        "medias_rendimiento[1:4,]"
      ],
      "execution_count": null,
      "outputs": [
        {
          "output_type": "stream",
          "text": [
            "  Group.1 y_bar_triste y_bar_feliz\n",
            "1 Abarco        8.4000    8.024050\n",
            "2 Acacio        6.6000    6.382595\n",
            "3 Acelga       10.6024    9.975504\n",
            "4 Achiote       0.5000    0.500000\n"
          ],
          "name": "stdout"
        }
      ]
    },
    {
      "cell_type": "code",
      "metadata": {
        "colab": {
          "base_uri": "https://localhost:8080/"
        },
        "id": "urVhiSZ7yfhk",
        "outputId": "4619dbfe-45c9-4af7-fb98-88546f01877f"
      },
      "source": [
        "%%R\n",
        "sd_rendimiento = merge(x = sd_afect, y= sd_no_afect, by = \"Group.1\", all=FALSE)\n",
        "sd_rendimiento = sd_rendimiento[complete.cases(sd_rendimiento[,3]),]\n",
        "sd_rendimiento[1:4,]"
      ],
      "execution_count": null,
      "outputs": [
        {
          "output_type": "stream",
          "text": [
            "  Group.1 sd_triste  sd_feliz\n",
            "1 Abarco   0.000000 0.9363562\n",
            "2 Acacio         NA 2.0033063\n",
            "3 Acelga   4.192021 4.6103268\n",
            "4 Achiote  0.000000 0.0000000\n"
          ],
          "name": "stdout"
        }
      ]
    },
    {
      "cell_type": "code",
      "metadata": {
        "colab": {
          "base_uri": "https://localhost:8080/"
        },
        "id": "leRcTYeJ11i1",
        "outputId": "94676913-0197-49f5-b035-76449292cff2"
      },
      "source": [
        "%%R\n",
        "sd_med_rend = merge(x = sd_rendimiento, y= medias_rendimiento, by = \"Group.1\", all=FALSE)\n",
        "sd_med_rend[1:10,]"
      ],
      "execution_count": null,
      "outputs": [
        {
          "output_type": "stream",
          "text": [
            "                   Group.1  sd_triste   sd_feliz y_bar_triste y_bar_feliz\n",
            "1                  Abarco  0.00000000 0.93635621    8.4000000   8.0240504\n",
            "2                  Acacio          NA 2.00330632    6.6000000   6.3825951\n",
            "3                  Acelga  4.19202071 4.61032678   10.6023977   9.9755042\n",
            "4                  Achiote 0.00000000 0.00000000    0.5000000   0.5000000\n",
            "5                 Achiras  2.24588448 0.74005406    3.6560891   1.4512051\n",
            "6  Agapanto (Flor de amor)         NA 9.82827670    7.1428571  15.0903706\n",
            "7                Aguacate  1.73325644 1.64303531    3.5714134   6.0267323\n",
            "8                 Ahuyama  2.24273426 3.13125842    4.2762258   5.8195051\n",
            "9       Ajíes y pimientos  2.53698915 3.28116518    3.4030219   5.3608856\n",
            "10               Ajonjolí  0.04648659 0.02116515    0.3102557   0.2920708\n"
          ],
          "name": "stdout"
        }
      ]
    },
    {
      "cell_type": "code",
      "metadata": {
        "colab": {
          "base_uri": "https://localhost:8080/"
        },
        "id": "il1nujMd7Oe9",
        "outputId": "bd50a2ee-6ef6-4f86-d055-98aff9e46fbe"
      },
      "source": [
        "%%R\n",
        "sd_med_n =  merge(x = n_cults, y= sd_med_rend, by = \"Group.1\", all=FALSE)\n",
        "sd_med_n[1:4,]"
      ],
      "execution_count": null,
      "outputs": [
        {
          "output_type": "stream",
          "text": [
            "  Group.1 n_triste n_feliz sd_triste  sd_feliz y_bar_triste y_bar_feliz\n",
            "1 Abarco         2      16  0.000000 0.9363562       8.4000    8.024050\n",
            "2 Acacio         1     236        NA 2.0033063       6.6000    6.382595\n",
            "3 Acelga        25     859  4.192021 4.6103268      10.6024    9.975504\n",
            "4 Achiote       47     554  0.000000 0.0000000       0.5000    0.500000\n"
          ],
          "name": "stdout"
        }
      ]
    },
    {
      "cell_type": "code",
      "metadata": {
        "colab": {
          "base_uri": "https://localhost:8080/"
        },
        "id": "VVFvpzATmh7I",
        "outputId": "c5f50660-8009-4c01-a811-46f91710e7ff"
      },
      "source": [
        "%%R\n",
        "medias_diff = sd_med_n[\"y_bar_feliz\"] - sd_med_n[\"y_bar_triste\"]\n",
        "sd_med_n[\"medias_diff\"] = medias_diff\n",
        "sd_med_n[1:4,]"
      ],
      "execution_count": null,
      "outputs": [
        {
          "output_type": "stream",
          "text": [
            "  Group.1 n_triste n_feliz sd_triste  sd_feliz y_bar_triste y_bar_feliz\n",
            "1 Abarco         2      16  0.000000 0.9363562       8.4000    8.024050\n",
            "2 Acacio         1     236        NA 2.0033063       6.6000    6.382595\n",
            "3 Acelga        25     859  4.192021 4.6103268      10.6024    9.975504\n",
            "4 Achiote       47     554  0.000000 0.0000000       0.5000    0.500000\n",
            "  medias_diff\n",
            "1  -0.3759496\n",
            "2  -0.2174049\n",
            "3  -0.6268936\n",
            "4   0.0000000\n"
          ],
          "name": "stdout"
        }
      ]
    },
    {
      "cell_type": "code",
      "metadata": {
        "colab": {
          "base_uri": "https://localhost:8080/"
        },
        "id": "nSfpGyrH_UYN",
        "outputId": "4e72abcf-0478-4a22-df95-c6521dfee5bc"
      },
      "source": [
        "%%R\n",
        "#borrado de los na que impiden calcular\n",
        "sd_med_n = sd_med_n[complete.cases(sd_med_n[,4]),]\n",
        "\n",
        "#selección de los cultivos que son normalizables \n",
        "#dado que tienen n > 40\n",
        "sd_med_n_norm = sd_med_n[sd_med_n$n_triste > 60,]\n",
        "sd_med_n_norm = sd_med_n_norm[sd_med_n_norm$n_feliz > 60,]\n",
        "\n",
        "sd_med_n_norm[1:4,]"
      ],
      "execution_count": null,
      "outputs": [
        {
          "output_type": "stream",
          "text": [
            "              Group.1 n_triste n_feliz sd_triste  sd_feliz y_bar_triste\n",
            "7           Aguacate       419   37596 1.7332564 1.6430353     3.571413\n",
            "8            Ahuyama       672   10627 2.2427343 3.1312584     4.276226\n",
            "9  Ajíes y pimientos       362    8008 2.5369891 3.2811652     3.403022\n",
            "14           Algodón       654    7707 0.4001618 0.3861851     2.452522\n",
            "   y_bar_feliz medias_diff\n",
            "7     6.026732  2.45531897\n",
            "8     5.819505  1.54327925\n",
            "9     5.360886  1.95786377\n",
            "14    2.373022 -0.07949948\n"
          ],
          "name": "stdout"
        }
      ]
    },
    {
      "cell_type": "code",
      "metadata": {
        "id": "3yUA6u6F9oEM"
      },
      "source": [
        "%%R\n",
        "\n",
        "sd_med_n_norm[\"std_err\"] = sqrt((sd_med_n_norm$sd_feliz^2)/sd_med_n_norm$n_feliz + \n",
        "                                (sd_med_n_norm$sd_triste^2)/sd_med_n_norm$n_triste)"
      ],
      "execution_count": null,
      "outputs": []
    },
    {
      "cell_type": "code",
      "metadata": {
        "id": "2eCHCyjn2w-Y"
      },
      "source": [
        "%%R\n",
        "\n",
        "sd_med_n_norm[\"z\"] = sd_med_n_norm$medias_diff/sd_med_n_norm$std_err"
      ],
      "execution_count": null,
      "outputs": []
    },
    {
      "cell_type": "code",
      "metadata": {
        "id": "TfGzzpscCMXB"
      },
      "source": [
        "%%R \n",
        "#para un alfa de 0.05\n",
        "alfa_med = 0.05\n",
        "z_alfa = qnorm(alfa_med)\n",
        "\n",
        "sd_med_n_norm[\"aceptar_ha\"] = sd_med_n_norm$z < z_alfa\n",
        "sd_med_n_norm[\"p_valor\"] = pnorm((sd_med_n_norm$z), lower.tail = TRUE)\n",
        "\n",
        "\n",
        "sd_med_n_norm[\"aceptar_ha(p_val)\"] = sd_med_n_norm$p_valor < alfa_med\n",
        "#aceptar_p"
      ],
      "execution_count": null,
      "outputs": []
    },
    {
      "cell_type": "code",
      "metadata": {
        "id": "NxMwtc_AEFPg",
        "colab": {
          "base_uri": "https://localhost:8080/"
        },
        "outputId": "cc932f04-99cf-4d0a-b016-8ceed891f550"
      },
      "source": [
        "%%R \n",
        "z_final = sd_med_n_norm[,c(\"Group.1\",\"aceptar_ha\",\"aceptar_ha(p_val)\", \"z\")]\n",
        "z_final"
      ],
      "execution_count": null,
      "outputs": [
        {
          "output_type": "stream",
          "text": [
            "                                      Group.1 aceptar_ha aceptar_ha(p_val)\n",
            "7                                   Aguacate       FALSE             FALSE\n",
            "8                                    Ahuyama       FALSE             FALSE\n",
            "9                          Ajíes y pimientos       FALSE             FALSE\n",
            "14                                   Algodón        TRUE              TRUE\n",
            "22                                 Arracacha        TRUE              TRUE\n",
            "24                               Arroz verde       FALSE             FALSE\n",
            "25                              Arveja verde       FALSE             FALSE\n",
            "34                                    Banano       FALSE             FALSE\n",
            "35                                     Batata       TRUE              TRUE\n",
            "38                                    Borojo        TRUE              TRUE\n",
            "42                                Cacao grano      FALSE             FALSE\n",
            "43                                Cafe Borbon      FALSE             FALSE\n",
            "44                              Café Castilla      FALSE             FALSE\n",
            "46                               Cafe Caturra      FALSE             FALSE\n",
            "50  Cafe Tipica - Pajarito- Nacional- Arabigo      FALSE             FALSE\n",
            "51                     Café variedad Colombia      FALSE             FALSE\n",
            "52                                     Caimo        TRUE              TRUE\n",
            "57                              Caña panelera      FALSE             FALSE\n",
            "64                          Cebolla cabezona        TRUE              TRUE\n",
            "65                             Cebolla larga       FALSE             FALSE\n",
            "71                                Chontaduro       FALSE             FALSE\n",
            "72                                  Cilantro        TRUE              TRUE\n",
            "74                                       Coco       TRUE              TRUE\n",
            "78                                    Curuba       FALSE             FALSE\n",
            "80                                   Durazno       FALSE             FALSE\n",
            "86                                     Fresa       FALSE             FALSE\n",
            "87                                     Fríjol       TRUE              TRUE\n",
            "92                                     Guamo        TRUE              TRUE\n",
            "93                                 Guanabana       FALSE             FALSE\n",
            "94                                   Guatila       FALSE             FALSE\n",
            "95                                   Guayaba       FALSE             FALSE\n",
            "98                                 Haba verde       TRUE              TRUE\n",
            "99                                Habichuela        TRUE              TRUE\n",
            "104                                  Lechuga       FALSE             FALSE\n",
            "106                                     Limón      FALSE             FALSE\n",
            "110                                     Lulo       FALSE             FALSE\n",
            "112                            Maíz Amarillo       FALSE             FALSE\n",
            "113                              Maíz Blanco       FALSE             FALSE\n",
            "115                                 Malanga        FALSE             FALSE\n",
            "118                                Mandarina       FALSE             FALSE\n",
            "119                                    Mango        TRUE              TRUE\n",
            "121                                   Mapuey       FALSE             FALSE\n",
            "122                                 Maracuya       FALSE             FALSE\n",
            "125                                    Melón       FALSE             FALSE\n",
            "126                                     Mijo        TRUE              TRUE\n",
            "128                              Mora Andina       FALSE             FALSE\n",
            "130                                     Ñame        TRUE              TRUE\n",
            "131                                   Naranja      FALSE             FALSE\n",
            "139                           Otro permanente      FALSE             FALSE\n",
            "142                            Palma africana      FALSE             FALSE\n",
            "146                                    Papas       FALSE             FALSE\n",
            "147                           Papas criollas        TRUE              TRUE\n",
            "148                                   Papaya       FALSE             FALSE\n",
            "150                                   Pepino        TRUE              TRUE\n",
            "153                                Pimentón         TRUE              TRUE\n",
            "154                                      Piña      FALSE             FALSE\n",
            "158                                  Platano       FALSE             FALSE\n",
            "171                          Sandía - Patilla      FALSE             FALSE\n",
            "176                                   Tabaco        TRUE              TRUE\n",
            "178                                   Tomate       FALSE             FALSE\n",
            "179                          Tomate De Arbol       FALSE             FALSE\n",
            "181                          Trigo en grano         TRUE              TRUE\n",
            "184                                     Yuca       FALSE             FALSE\n",
            "185                                Zanahoria        TRUE              TRUE\n",
            "              z\n",
            "7    28.8528189\n",
            "8    16.8310095\n",
            "9    14.1576079\n",
            "14   -4.8910274\n",
            "22   -4.3626098\n",
            "24   24.7337229\n",
            "25   -0.4368230\n",
            "34   81.5648690\n",
            "35   -6.2349252\n",
            "38   -7.2745265\n",
            "42   37.9454369\n",
            "43   13.8837841\n",
            "44   46.7055951\n",
            "46   36.6269025\n",
            "50   36.9118982\n",
            "51   34.0489412\n",
            "52   -4.2524720\n",
            "57   40.2460401\n",
            "64   -3.2861666\n",
            "65   -1.0363494\n",
            "71    9.6216114\n",
            "72   -2.9464694\n",
            "74   -4.4403053\n",
            "78    7.0202969\n",
            "80   26.2028953\n",
            "86    1.8216767\n",
            "87  -95.9778386\n",
            "92   -5.9230554\n",
            "93   20.6361107\n",
            "94    7.2896039\n",
            "95    9.6911692\n",
            "98  -18.8556885\n",
            "99   -2.7122153\n",
            "104  -0.7580261\n",
            "106  26.7301182\n",
            "110  -0.9177564\n",
            "112  14.6643084\n",
            "113  34.7798623\n",
            "115   3.3529228\n",
            "118  60.0556281\n",
            "119  -6.1338593\n",
            "121   6.9147678\n",
            "122   1.2923704\n",
            "125   0.5709473\n",
            "126 -64.2956470\n",
            "128   2.2834243\n",
            "130 -20.4535082\n",
            "131  28.7070490\n",
            "139   6.3491055\n",
            "142  13.0403266\n",
            "146  26.5350341\n",
            "147  -9.0266976\n",
            "148  24.2103262\n",
            "150  -3.1852598\n",
            "153  -4.2033482\n",
            "154  24.3985030\n",
            "158 105.1336392\n",
            "171   7.6823557\n",
            "176 -11.5731096\n",
            "178   2.6289969\n",
            "179   1.7725282\n",
            "181  -5.7322868\n",
            "184  34.8032431\n",
            "185  -4.9240056\n"
          ],
          "name": "stdout"
        }
      ]
    },
    {
      "cell_type": "code",
      "metadata": {
        "colab": {
          "base_uri": "https://localhost:8080/"
        },
        "id": "bPnxj352hfMC",
        "outputId": "062a11d1-b898-48df-8c0e-7d38cfb33a60"
      },
      "source": [
        "%%R\n",
        "\n",
        "#calcular el porcentaje de todos los cultivos para los cuales se cumple\n",
        "#la hipótesis alternativa\n",
        "\n",
        "total = length(sd_med_n_norm$Group.1)\n",
        "\n",
        "sis = sd_med_n_norm[sd_med_n_norm$aceptar_ha == TRUE,]\n",
        "sis = length(sis$Group.1)\n",
        "\n",
        "ratio_ha_aceptada = sis*100/total\n",
        "ratio_ha_aceptada "
      ],
      "execution_count": null,
      "outputs": [
        {
          "output_type": "stream",
          "text": [
            "[1] 32.8125\n"
          ],
          "name": "stdout"
        }
      ]
    },
    {
      "cell_type": "code",
      "metadata": {
        "colab": {
          "base_uri": "https://localhost:8080/"
        },
        "id": "EeMAH9zaAtgc",
        "outputId": "c3284281-c90f-40ae-cb10-91c37d7daf6a"
      },
      "source": [
        "%%R\n",
        "fresa = sd_med_n_norm[sd_med_n_norm$Group.1 == \"Fresa \",]\n",
        "fresa"
      ],
      "execution_count": null,
      "outputs": [
        {
          "output_type": "stream",
          "text": [
            "   Group.1 n_triste n_feliz sd_triste sd_feliz y_bar_triste y_bar_feliz\n",
            "86  Fresa        73    3879  9.732229 2.268184     4.300443    6.376523\n",
            "   medias_diff  std_err        z aceptar_ha  p_valor aceptar_ha(p_val)\n",
            "86     2.07608 1.139653 1.821677      FALSE 0.965748             FALSE\n"
          ],
          "name": "stdout"
        }
      ]
    },
    {
      "cell_type": "markdown",
      "metadata": {
        "id": "6cNevRhzo4fq"
      },
      "source": [
        "A partir de aqui haremos la distribucion t con aquellos cultivos con n menos a 60. Los de mayor a 60 ya les hicimos la prueba z.\n",
        "\n",
        "$t = \\frac{y_1-y_2-0}{sp \\sqrt{\\frac{1}{n_1}+\\frac{1}{n_2}}}$\n",
        "\n",
        "$sp = \\sqrt{\\frac{(n_1-1)s_1^2+(n_2-1)s_2^2}{n_1+n_2-2}}$"
      ]
    },
    {
      "cell_type": "code",
      "metadata": {
        "id": "O8pn0uOapDo9",
        "colab": {
          "base_uri": "https://localhost:8080/"
        },
        "outputId": "b5ed19ee-ec95-4846-f8d4-67e75262cf00"
      },
      "source": [
        "%%R\n",
        "\n",
        "sd_med_n_tstudent = sd_med_n[sd_med_n$n_triste < 60,]\n",
        "sd_med_n_tstudent = sd_med_n_tstudent[sd_med_n_tstudent$n_feliz  < 60,]\n",
        "\n",
        "sd_med_n_tstudent[1:4,]"
      ],
      "execution_count": null,
      "outputs": [
        {
          "output_type": "stream",
          "text": [
            "                         Group.1 n_triste n_feliz sd_triste  sd_feliz\n",
            "1                        Abarco         2      16 0.0000000 0.9363562\n",
            "31                       Azucena       12      23 0.0000000 0.4917578\n",
            "47 Café Grano Verde  - Chinchina        3      58 0.2671822 0.0000000\n",
            "68                   Ceiba Tolua        2      12 0.1135513 2.4350738\n",
            "   y_bar_triste y_bar_feliz medias_diff\n",
            "1     8.4000000    8.024050  -0.3759496\n",
            "31   10.8814582   11.113329   0.2318708\n",
            "47    0.4507884    0.720000   0.2692116\n",
            "68    2.3458204    2.700639   0.3548190\n"
          ],
          "name": "stdout"
        }
      ]
    },
    {
      "cell_type": "code",
      "metadata": {
        "id": "p9gg2Sa4pjA_"
      },
      "source": [
        "%%R\n",
        "\n",
        "sd_med_n_tstudent[\"df\"] = sd_med_n_tstudent$n_feliz + sd_med_n_tstudent$n_triste - 2\n",
        "\n",
        "sd_med_n_tstudent[\"sp\"] = sqrt(((sd_med_n_tstudent$n_feliz-1)*(sd_med_n_tstudent$sd_feliz)^2 + (sd_med_n_tstudent$n_triste-1)*(sd_med_n_tstudent$sd_triste)^2)/\n",
        "                               (sd_med_n_tstudent$df))\n",
        "\n"
      ],
      "execution_count": null,
      "outputs": []
    },
    {
      "cell_type": "code",
      "metadata": {
        "id": "a_ka1xTJppIy"
      },
      "source": [
        "%%R\n",
        "\n",
        "sd_med_n_tstudent[\"tstudent\"] = (sd_med_n_tstudent$medias_diff)/(sd_med_n_tstudent$sp*(sqrt((1/sd_med_n_tstudent$n_feliz) + (1/sd_med_n_tstudent$n_triste))))"
      ],
      "execution_count": null,
      "outputs": []
    },
    {
      "cell_type": "code",
      "metadata": {
        "id": "7NQse-X6prMx"
      },
      "source": [
        "%%R \n",
        "#para un alfa de 0.05\n",
        "alfa_med_tstudent = 0.05\n",
        "tstudent_alfa = qt(alfa_med_tstudent, df = sd_med_n_tstudent$df)\n",
        "\n",
        "sd_med_n_tstudent[\"aceptar_ha\"] = sd_med_n_tstudent$tstudent < tstudent_alfa\n",
        "sd_med_n_tstudent[\"p_valor\"] = pt((sd_med_n_tstudent$tstudent), df = sd_med_n_tstudent$df, lower.tail = TRUE)\n",
        "\n",
        "\n",
        "sd_med_n_tstudent[\"aceptar_ha(p_val)\"] = sd_med_n_tstudent$p_valor < alfa_med\n",
        "#aceptar_p"
      ],
      "execution_count": null,
      "outputs": []
    },
    {
      "cell_type": "code",
      "metadata": {
        "id": "ob4dg1wnprGC",
        "colab": {
          "base_uri": "https://localhost:8080/"
        },
        "outputId": "1deca160-c073-4483-be9d-3ef04bb62f44"
      },
      "source": [
        "%%R \n",
        "tstudent_final = sd_med_n_tstudent[,c(\"Group.1\",\"aceptar_ha\",\"aceptar_ha(p_val)\", \"tstudent\")]\n",
        "tstudent_final"
      ],
      "execution_count": null,
      "outputs": [
        {
          "output_type": "stream",
          "text": [
            "                          Group.1 aceptar_ha aceptar_ha(p_val)   tstudent\n",
            "1                         Abarco       FALSE             FALSE -0.5528937\n",
            "31                        Azucena      FALSE             FALSE  1.6216645\n",
            "47  Café Grano Verde  - Chinchina      FALSE             FALSE  9.2428746\n",
            "68                    Ceiba Tolua      FALSE             FALSE  0.1992451\n",
            "79         Delphinium o pelícano        TRUE              TRUE -3.0508511\n",
            "81                      Espinaca       FALSE             FALSE  2.8137311\n",
            "129                          Nabo       TRUE              TRUE -3.4834625\n",
            "140                         Paco       FALSE             FALSE  1.2887371\n",
            "149                   Peine Mono       FALSE             FALSE -0.7439212\n",
            "156                      Pinuela       FALSE             FALSE -1.1168704\n"
          ],
          "name": "stdout"
        }
      ]
    },
    {
      "cell_type": "code",
      "metadata": {
        "id": "8WX2flqepq48"
      },
      "source": [
        "%%R\n",
        "\n",
        "write.csv(x = z_final, file = \"/gdrive/MyDrive/Tabla_PdHMedias_Z.csv\", row.names = TRUE)\n",
        "write.csv(x = tstudent_final, file = \"/gdrive/MyDrive/Tabla_PdHMedias_Tstudent.csv\", row.names = TRUE)"
      ],
      "execution_count": null,
      "outputs": []
    },
    {
      "cell_type": "markdown",
      "metadata": {
        "id": "ShpVGmgBqH4C"
      },
      "source": [
        "Ahora a partir de aqui graficamos las proporciones de la prueba de hipotesis "
      ]
    },
    {
      "cell_type": "code",
      "metadata": {
        "id": "8nvouO82pqvh",
        "colab": {
          "base_uri": "https://localhost:8080/"
        },
        "outputId": "1ed97398-b86b-4fc2-dd0c-daeabe6ef6b2"
      },
      "source": [
        "%%R \n",
        "\n",
        "tstudent_final_porcentaje = tstudent_final[,c(\"Group.1\",\"aceptar_ha\")]\n",
        "z_final_porcentaje = z_final[,c(\"Group.1\",\"aceptar_ha\")]\n",
        "\n",
        "tabla_porcentaje = rbind(tstudent_final_porcentaje, z_final_porcentaje)\n",
        "tabla_porcentaje"
      ],
      "execution_count": null,
      "outputs": [
        {
          "output_type": "stream",
          "text": [
            "                                      Group.1 aceptar_ha\n",
            "1                                     Abarco       FALSE\n",
            "31                                    Azucena      FALSE\n",
            "47              Café Grano Verde  - Chinchina      FALSE\n",
            "68                                Ceiba Tolua      FALSE\n",
            "79                     Delphinium o pelícano        TRUE\n",
            "81                                  Espinaca       FALSE\n",
            "129                                      Nabo       TRUE\n",
            "140                                     Paco       FALSE\n",
            "149                               Peine Mono       FALSE\n",
            "156                                  Pinuela       FALSE\n",
            "7                                   Aguacate       FALSE\n",
            "8                                    Ahuyama       FALSE\n",
            "9                          Ajíes y pimientos       FALSE\n",
            "14                                   Algodón        TRUE\n",
            "22                                 Arracacha        TRUE\n",
            "24                               Arroz verde       FALSE\n",
            "25                              Arveja verde       FALSE\n",
            "34                                    Banano       FALSE\n",
            "35                                     Batata       TRUE\n",
            "38                                    Borojo        TRUE\n",
            "42                                Cacao grano      FALSE\n",
            "43                                Cafe Borbon      FALSE\n",
            "44                              Café Castilla      FALSE\n",
            "46                               Cafe Caturra      FALSE\n",
            "50  Cafe Tipica - Pajarito- Nacional- Arabigo      FALSE\n",
            "51                     Café variedad Colombia      FALSE\n",
            "52                                     Caimo        TRUE\n",
            "57                              Caña panelera      FALSE\n",
            "64                          Cebolla cabezona        TRUE\n",
            "65                             Cebolla larga       FALSE\n",
            "71                                Chontaduro       FALSE\n",
            "72                                  Cilantro        TRUE\n",
            "74                                       Coco       TRUE\n",
            "78                                    Curuba       FALSE\n",
            "80                                   Durazno       FALSE\n",
            "86                                     Fresa       FALSE\n",
            "87                                     Fríjol       TRUE\n",
            "92                                     Guamo        TRUE\n",
            "93                                 Guanabana       FALSE\n",
            "94                                   Guatila       FALSE\n",
            "95                                   Guayaba       FALSE\n",
            "98                                 Haba verde       TRUE\n",
            "99                                Habichuela        TRUE\n",
            "104                                  Lechuga       FALSE\n",
            "106                                     Limón      FALSE\n",
            "110                                     Lulo       FALSE\n",
            "112                            Maíz Amarillo       FALSE\n",
            "113                              Maíz Blanco       FALSE\n",
            "115                                 Malanga        FALSE\n",
            "118                                Mandarina       FALSE\n",
            "119                                    Mango        TRUE\n",
            "121                                   Mapuey       FALSE\n",
            "122                                 Maracuya       FALSE\n",
            "125                                    Melón       FALSE\n",
            "126                                     Mijo        TRUE\n",
            "128                              Mora Andina       FALSE\n",
            "130                                     Ñame        TRUE\n",
            "131                                   Naranja      FALSE\n",
            "139                           Otro permanente      FALSE\n",
            "142                            Palma africana      FALSE\n",
            "146                                    Papas       FALSE\n",
            "147                           Papas criollas        TRUE\n",
            "148                                   Papaya       FALSE\n",
            "150                                   Pepino        TRUE\n",
            "153                                Pimentón         TRUE\n",
            "154                                      Piña      FALSE\n",
            "158                                  Platano       FALSE\n",
            "171                          Sandía - Patilla      FALSE\n",
            "176                                   Tabaco        TRUE\n",
            "178                                   Tomate       FALSE\n",
            "179                          Tomate De Arbol       FALSE\n",
            "181                          Trigo en grano         TRUE\n",
            "184                                     Yuca       FALSE\n",
            "185                                Zanahoria        TRUE\n"
          ],
          "name": "stdout"
        }
      ]
    },
    {
      "cell_type": "code",
      "metadata": {
        "id": "-K3fz_xypqQ9"
      },
      "source": [
        "%%R\n",
        "\n",
        "porcentaje_h0 = round((51 * 100 / 74), 0)\n",
        "porcentaje_ha = round((23 * 100 / 74), 0)\n",
        "pdf(\"Piecharthipotesis.pdf\")\n",
        "pie(table(tabla_porcentaje$aceptar_ha), labels = paste0(c(porcentaje_h0, porcentaje_ha), \"%\"), main = (\"Porcentajes sobre la prueba de hipotesis\"))\n",
        "\n",
        "legend(\"topleft\", legend = c(\"Aceptamos H0\", \"Aceptamos Ha\"),\n",
        "       fill =  c(\"white\", \"lightblue\"))\n"
      ],
      "execution_count": null,
      "outputs": []
    }
  ]
}