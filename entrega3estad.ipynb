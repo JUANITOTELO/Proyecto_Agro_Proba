{
  "nbformat": 4,
  "nbformat_minor": 0,
  "metadata": {
    "colab": {
      "name": "entrega3estad.ipynb",
      "provenance": [],
      "collapsed_sections": [],
      "include_colab_link": true
    },
    "kernelspec": {
      "name": "python3",
      "display_name": "Python 3"
    },
    "language_info": {
      "name": "python"
    }
  },
  "cells": [
    {
      "cell_type": "markdown",
      "metadata": {
        "id": "view-in-github",
        "colab_type": "text"
      },
      "source": [
        "<a href=\"https://colab.research.google.com/github/JUANITOTELO/Proyecto_Agro_Proba/blob/main/entrega3estad.ipynb\" target=\"_parent\"><img src=\"https://colab.research.google.com/assets/colab-badge.svg\" alt=\"Open In Colab\"/></a>"
      ]
    },
    {
      "cell_type": "code",
      "metadata": {
        "colab": {
          "base_uri": "https://localhost:8080/"
        },
        "id": "HSBG2gpPj4gd",
        "outputId": "fb0371ec-b0de-4ff4-f339-4403ca96b66f"
      },
      "source": [
        "from google.colab import drive\n",
        "drive.mount('/gdrive', force_remount=True)"
      ],
      "execution_count": null,
      "outputs": [
        {
          "output_type": "stream",
          "text": [
            "Mounted at /gdrive\n"
          ],
          "name": "stdout"
        }
      ]
    },
    {
      "cell_type": "code",
      "metadata": {
        "id": "jMswxboqlk4v"
      },
      "source": [
        "%load_ext rpy2.ipython"
      ],
      "execution_count": null,
      "outputs": []
    },
    {
      "cell_type": "code",
      "metadata": {
        "id": "vGwo-JDnlx99"
      },
      "source": [
        "%%R\n",
        "install.packages('plyr')"
      ],
      "execution_count": null,
      "outputs": []
    },
    {
      "cell_type": "code",
      "metadata": {
        "id": "ecNfPmN0lwM5"
      },
      "source": [
        "%%R\n",
        "\n",
        "#Instalación y cargado de la librería necesaria para hacer el conteo \n",
        "#de frecuencias de variable categórica\n",
        "library(plyr)\n",
        "library(ggplot2)"
      ],
      "execution_count": null,
      "outputs": []
    },
    {
      "cell_type": "markdown",
      "metadata": {
        "id": "iKNJQQF7bHuV"
      },
      "source": [
        "## Cargado del csv principal para los análisis"
      ]
    },
    {
      "cell_type": "code",
      "metadata": {
        "id": "0lvxWsbJmMn7",
        "colab": {
          "base_uri": "https://localhost:8080/"
        },
        "outputId": "34013672-2eb5-485a-9c0e-4500e33cdd69"
      },
      "source": [
        "%%R\n",
        "cultivos <- read.table(\"/gdrive/MyDrive/Universidad/proba/entrega2/cultivos_nacional_filtrado.csv\", sep=\",\", header=TRUE)\n",
        "\n",
        "head(cultivos)"
      ],
      "execution_count": null,
      "outputs": [
        {
          "output_type": "stream",
          "text": [
            "  P_DEPTO     P_S6P46 P_S6P47B P_S6P59_UNIF P_S6P60 AREA_SEMBRADA\n",
            "1       5   112201001     2012     3.277476      12     0.9541966\n",
            "2       5   151001001     2013    16.022034      12     0.9541966\n",
            "3       5   151001001     2012    14.948570      12     0.9541966\n",
            "4       5   180201002     2007     3.852656      12     1.3533684\n",
            "5       5   159201001     2013    18.642798      12     0.7151330\n",
            "6       5 16100100101     1997     0.720000      12     0.7151330\n",
            "  AREA_COSECHADA\n",
            "1      0.9541966\n",
            "2      0.9541966\n",
            "3      0.9541966\n",
            "4      1.3533684\n",
            "5      0.7151330\n",
            "6      0.7151330\n"
          ],
          "name": "stdout"
        }
      ]
    },
    {
      "cell_type": "markdown",
      "metadata": {
        "id": "RjbkZbeSbjeG"
      },
      "source": [
        "----\n",
        "Creación de un subdataframe para el primer análisis, a.k.a top 10 de los cultivos más afectados en el país"
      ]
    },
    {
      "cell_type": "code",
      "metadata": {
        "colab": {
          "base_uri": "https://localhost:8080/"
        },
        "id": "iPylV3H1bXvf",
        "outputId": "31203377-cdc4-41e2-b2b5-2eb76ebd32e9"
      },
      "source": [
        "%%R\n",
        "#selección de las columnas que nos interesan para este análisis inicial\n",
        "cultivos_sub_top10 <- subset(cultivos, select=c(\"P_S6P46\", \"P_S6P60\"))\n",
        "cultivos_sub_top10 = data.frame(cultivos_sub_top10)\n",
        "\n",
        "head(cultivos_sub_top10)"
      ],
      "execution_count": null,
      "outputs": [
        {
          "output_type": "stream",
          "text": [
            "      P_S6P46 P_S6P60\n",
            "1   112201001      12\n",
            "2   151001001      12\n",
            "3   151001001      12\n",
            "4   180201002      12\n",
            "5   159201001      12\n",
            "6 16100100101      12\n"
          ],
          "name": "stdout"
        }
      ]
    },
    {
      "cell_type": "code",
      "metadata": {
        "colab": {
          "base_uri": "https://localhost:8080/"
        },
        "id": "QU5u2a4P9Fpp",
        "outputId": "2c12a0ac-424a-4d34-b8cb-36a3b24678f2"
      },
      "source": [
        "%%R\n",
        "cultivos_afectados <- cultivos_sub_top10[cultivos_sub_top10$P_S6P60 != 12,]\n",
        "head(cultivos_afectados)"
      ],
      "execution_count": null,
      "outputs": [
        {
          "output_type": "stream",
          "text": [
            "       P_S6P46 P_S6P60\n",
            "63   121903001       2\n",
            "64   125402001       2\n",
            "111  121903001      10\n",
            "112  125402001      10\n",
            "1615 125402001       2\n",
            "1616 123401001       7\n"
          ],
          "name": "stdout"
        }
      ]
    },
    {
      "cell_type": "code",
      "metadata": {
        "colab": {
          "base_uri": "https://localhost:8080/"
        },
        "id": "IALpKdF59_Zf",
        "outputId": "b727aee5-29a6-452b-dbe3-c7a4ddc3c836"
      },
      "source": [
        "%%R\n",
        "\n",
        "freqs_cult_afect <- count(cultivos_afectados, \"P_S6P46\")\n",
        "freqs_cult_afect <- freqs_cult_afect[order(-freqs_cult_afect$freq),]\n",
        "freqs_cult_afect[0:10,]"
      ],
      "execution_count": null,
      "outputs": [
        {
          "output_type": "stream",
          "text": [
            "      P_S6P46  freq\n",
            "49  131301001 13876\n",
            "3   112201002 12499\n",
            "113 159201001 11001\n",
            "2   112201001  9694\n",
            "109 151001001  7666\n",
            "48  131201001  5818\n",
            "140 191999056  3320\n",
            "135 180201002  3290\n",
            "124 164001001  3256\n",
            "4   113202001  3056\n"
          ],
          "name": "stdout"
        }
      ]
    },
    {
      "cell_type": "markdown",
      "metadata": {
        "id": "4E02du-ja9c8"
      },
      "source": [
        "## carga de csv para obtener equivalencias de código de cultivo a nombre del cultivo"
      ]
    },
    {
      "cell_type": "code",
      "metadata": {
        "colab": {
          "base_uri": "https://localhost:8080/"
        },
        "id": "0TvPoy1hWikH",
        "outputId": "cca9745c-b9df-47b4-d43a-337d06840daf"
      },
      "source": [
        "%%R\n",
        "cultivos_code2name <- read.table(\"/gdrive/MyDrive/Universidad/proba/entrega2/equivalencias_cultivos_code.csv\", sep=\",\", header=TRUE)\n",
        "\n",
        "head(cultivos_code2name)"
      ],
      "execution_count": null,
      "outputs": [
        {
          "output_type": "stream",
          "text": [
            "    P_S6P46            nombre\n",
            "1 196104035           Abarco \n",
            "2 191999067 Acacia Forrajera \n",
            "3 196104068           Acacio \n",
            "4 196105051   Aceite de maría\n",
            "5 121904001           Acelga \n",
            "6 196104061          Achapo  \n"
          ],
          "name": "stdout"
        }
      ]
    },
    {
      "cell_type": "code",
      "metadata": {
        "id": "sGhw82qXcItk",
        "colab": {
          "base_uri": "https://localhost:8080/"
        },
        "outputId": "9094625d-ff13-4ce4-8845-9e8a4acaaa75"
      },
      "source": [
        "%%R\n",
        "#ahora se hace el merge entre las 2 tablas para poder conocer los nombres del top 10 \n",
        "#de los cultivos más afectados\n",
        "\n",
        "freqs_cult_afect_nombre = merge(x = cultivos_code2name, y=freqs_cult_afect, by = \"P_S6P46\", all=FALSE)\n",
        "freqs_cult_afect_nombre = freqs_cult_afect_nombre[order(-freqs_cult_afect_nombre$freq),]\n",
        "freqs_cult_afect_nombre[0:10,]"
      ],
      "execution_count": null,
      "outputs": [
        {
          "output_type": "stream",
          "text": [
            "      P_S6P46         nombre  freq\n",
            "49  131301001       Platano  13876\n",
            "3   112201002 Maíz Amarillo  12499\n",
            "113 159201001          Yuca  11001\n",
            "2   112201001   Maíz Blanco   9694\n",
            "109 151001001         Papas   7666\n",
            "48  131201001        Banano   5818\n",
            "140 191999056         Fríjol  3320\n",
            "135 180201002  Caña panelera  3290\n",
            "124 164001001    Cacao grano  3256\n",
            "4   113202001   Arroz verde   3056\n"
          ],
          "name": "stdout"
        }
      ]
    },
    {
      "cell_type": "code",
      "metadata": {
        "id": "GRnd2_YmgAa4"
      },
      "source": [
        "%%R\n",
        "pdf(file = \"Cantidad de cultivos afectados (nivel nacional) (top 10)\")\n",
        "p <- ggplot(data = freqs_cult_afect_nombre[0:10,], aes(x=nombre, y=freq, fill=freq)) + geom_bar(stat=\"identity\", color=\"black\") +\n",
        "     coord_flip() \n",
        "p <- p + labs(title=\"Cantidad de cultivos afectados (nivel nacional) (top 10)\", x=\"Cultivo\", y = \"Cantidad de cultivos afectados\")\n",
        "p  + theme_minimal()"
      ],
      "execution_count": null,
      "outputs": []
    },
    {
      "cell_type": "markdown",
      "metadata": {
        "id": "gXCJ6tnDjhXO"
      },
      "source": [
        ""
      ]
    },
    {
      "cell_type": "markdown",
      "metadata": {
        "id": "Uqlhe4Lotp1V"
      },
      "source": [
        "# Prueba de hipótesis para la diferencia de medias entre rendimientos de cultivos afectados y no afectados"
      ]
    },
    {
      "cell_type": "code",
      "metadata": {
        "id": "MhfuXZdVtpRP",
        "colab": {
          "base_uri": "https://localhost:8080/"
        },
        "outputId": "83437d4e-955b-42c5-a0d9-0536ebd1a903"
      },
      "source": [
        "%%R\n",
        "#selección de las columnas que nos interesan para este análisis inicial\n",
        "cultivos_hipo <- subset(cultivos, select=c(\"P_S6P46\", \"P_S6P60\", \"P_S6P59_UNIF\"))\n",
        "cultivos_hipo = data.frame(cultivos_hipo)\n",
        "\n",
        "head(cultivos_hipo)"
      ],
      "execution_count": null,
      "outputs": [
        {
          "output_type": "stream",
          "text": [
            "      P_S6P46 P_S6P60 P_S6P59_UNIF\n",
            "1   112201001      12     3.277476\n",
            "2   151001001      12    16.022034\n",
            "3   151001001      12    14.948570\n",
            "4   180201002      12     3.852656\n",
            "5   159201001      12    18.642798\n",
            "6 16100100101      12     0.720000\n"
          ],
          "name": "stdout"
        }
      ]
    },
    {
      "cell_type": "code",
      "metadata": {
        "id": "Jig04Divlha_",
        "colab": {
          "base_uri": "https://localhost:8080/"
        },
        "outputId": "ff288585-cb71-4b3e-e118-4a6dae36cd78"
      },
      "source": [
        "%%R\n",
        "\n",
        "#selección de los cultivos afectados y los no afectados en grupos distintos\n",
        "#y borrado de los NA en la columna P_S6P59_UNIF -> 'rendimientos', \n",
        "#también borra las filas que no tienen código\n",
        "cultivos_hipo_afect <- cultivos_hipo[(cultivos_hipo$P_S6P60 != 12),]\n",
        "cultivos_hipo_afect <- cultivos_hipo_afect[complete.cases(cultivos_hipo_afect[,3]),]\n",
        "cultivos_hipo_afect <- cultivos_hipo_afect[complete.cases(cultivos_hipo_afect[,1]),]\n",
        "\n",
        "cultivos_hipo_no_afect <- cultivos_hipo[(cultivos_hipo$P_S6P60 == 12),]\n",
        "cultivos_hipo_no_afect <- cultivos_hipo_no_afect[complete.cases(cultivos_hipo_no_afect[,3]),]\n",
        "cultivos_hipo_no_afect <- cultivos_hipo_no_afect[complete.cases(cultivos_hipo_no_afect[,1]),]\n",
        "\n",
        "head(cultivos_hipo_no_afect)"
      ],
      "execution_count": null,
      "outputs": [
        {
          "output_type": "stream",
          "text": [
            "      P_S6P46 P_S6P60 P_S6P59_UNIF\n",
            "1   112201001      12     3.277476\n",
            "2   151001001      12    16.022034\n",
            "3   151001001      12    14.948570\n",
            "4   180201002      12     3.852656\n",
            "5   159201001      12    18.642798\n",
            "6 16100100101      12     0.720000\n"
          ],
          "name": "stdout"
        }
      ]
    },
    {
      "cell_type": "code",
      "metadata": {
        "colab": {
          "base_uri": "https://localhost:8080/"
        },
        "id": "WhDmeWqm2zuu",
        "outputId": "1e6afe21-9d51-40bd-ac4c-3a6b18d69fc5"
      },
      "source": [
        "%%R\n",
        "cultivos_hipo_no_afect = merge(x = cultivos_code2name, y=cultivos_hipo_no_afect, by = \"P_S6P46\", all=FALSE)\n",
        "cultivos_hipo_afect = merge(x = cultivos_code2name, y=cultivos_hipo_afect, by = \"P_S6P46\", all=FALSE)\n",
        "\n",
        "head(cultivos_hipo_afect)"
      ],
      "execution_count": null,
      "outputs": [
        {
          "output_type": "stream",
          "text": [
            "    P_S6P46           nombre P_S6P60 P_S6P59_UNIF\n",
            "1 111201001 Trigo en grano         7     3.432202\n",
            "2 111201001 Trigo en grano        10     1.312838\n",
            "3 111201001 Trigo en grano         5     3.277186\n",
            "4 111201001 Trigo en grano        11     3.331678\n",
            "5 111201001 Trigo en grano         7     3.317994\n",
            "6 111201001 Trigo en grano         2     3.320472\n"
          ],
          "name": "stdout"
        }
      ]
    },
    {
      "cell_type": "code",
      "metadata": {
        "colab": {
          "base_uri": "https://localhost:8080/"
        },
        "id": "cLdbQJ-J3UJZ",
        "outputId": "dc74e86b-6488-4004-b4e0-bf5e41eaa78d"
      },
      "source": [
        "%%R\n",
        "platano_triste = cultivos_hipo_afect[cultivos_hipo_afect$nombre == \"Platano \",]\n",
        "platano_feliz = cultivos_hipo_no_afect[cultivos_hipo_no_afect$nombre == \"Platano \",]\n",
        "\n",
        "head(platano_feliz)"
      ],
      "execution_count": null,
      "outputs": [
        {
          "output_type": "stream",
          "text": [
            "         P_S6P46   nombre P_S6P60 P_S6P59_UNIF\n",
            "578315 131301001 Platano       12     5.003673\n",
            "578316 131301001 Platano       12     8.126980\n",
            "578317 131301001 Platano       12     6.186887\n",
            "578318 131301001 Platano       12     6.420560\n",
            "578319 131301001 Platano       12     3.553809\n",
            "578320 131301001 Platano       12     7.520362\n"
          ],
          "name": "stdout"
        }
      ]
    },
    {
      "cell_type": "code",
      "metadata": {
        "colab": {
          "base_uri": "https://localhost:8080/"
        },
        "id": "bwG5bRyG2BZ-",
        "outputId": "0c8af1aa-7808-4cf3-a77a-95db348caec2"
      },
      "source": [
        "%%R\n",
        "n1 = count(platano_feliz, \"nombre\")[,\"freq\"]\n",
        "n2 = count(platano_triste, \"nombre\")[,\"freq\"]\n",
        "\n",
        "head(n1)\n",
        "head(n2)"
      ],
      "execution_count": null,
      "outputs": [
        {
          "output_type": "stream",
          "text": [
            "[1] 13026\n"
          ],
          "name": "stdout"
        }
      ]
    },
    {
      "cell_type": "code",
      "metadata": {
        "colab": {
          "base_uri": "https://localhost:8080/"
        },
        "id": "rgMwC8z27hPK",
        "outputId": "5fd47678-7c4d-44c0-8d38-f66c59f01a00"
      },
      "source": [
        "%%R\n",
        "mu_1 = mean(platano_feliz[,\"P_S6P59_UNIF\"])\n",
        "mu_2 = mean(platano_triste[,\"P_S6P59_UNIF\"])\n",
        "\n",
        "print(c(mu_1, mu_2))"
      ],
      "execution_count": null,
      "outputs": [
        {
          "output_type": "stream",
          "text": [
            "[1] 5.458774 3.875260\n"
          ],
          "name": "stdout"
        }
      ]
    },
    {
      "cell_type": "code",
      "metadata": {
        "colab": {
          "base_uri": "https://localhost:8080/"
        },
        "id": "8NxOWF_C8NXt",
        "outputId": "aaf424b6-8c00-4d3e-b15e-16d7cb2dd9bd"
      },
      "source": [
        "%%R\n",
        "sd_1 = sd(platano_feliz[,\"P_S6P59_UNIF\"])\n",
        "sd_2 = sd(platano_triste[,\"P_S6P59_UNIF\"])\n",
        "\n",
        "print(c(sd_1, sd_2))"
      ],
      "execution_count": null,
      "outputs": [
        {
          "output_type": "stream",
          "text": [
            "[1] 1.425433 1.697868\n"
          ],
          "name": "stdout"
        }
      ]
    },
    {
      "cell_type": "markdown",
      "metadata": {
        "id": "gGWy8tg18XtK"
      },
      "source": [
        "cálculo del estadístico de prueba (dado el tamaño de n se puede normalizar).\n",
        "\n",
        "$\\alpha = 0.05$\n",
        "\n",
        "$h_o: \\mu_1 - \\mu_2 = 0$ \n",
        "\n",
        "$h_a: \\mu_1 - \\mu_2 \\neq 0$ \n",
        "\n",
        "$RR: \\{z: |z| > z_{\\alpha/2} \\}$"
      ]
    },
    {
      "cell_type": "code",
      "metadata": {
        "colab": {
          "base_uri": "https://localhost:8080/"
        },
        "id": "O2bIuB3i8W8q",
        "outputId": "560c9852-2dc8-429f-f75e-a51d3fb75b14"
      },
      "source": [
        "%%R\n",
        "std_err = sqrt( ((sd_1^2)/n1) + ((sd_2^2)/n2) )\n",
        "std_err"
      ],
      "execution_count": null,
      "outputs": [
        {
          "output_type": "stream",
          "text": [
            "[1] 0.01506192\n"
          ],
          "name": "stdout"
        }
      ]
    },
    {
      "cell_type": "code",
      "metadata": {
        "colab": {
          "base_uri": "https://localhost:8080/"
        },
        "id": "V5OAb4zX_ofz",
        "outputId": "a84dc099-d7d5-4339-85ff-d573b47c506d"
      },
      "source": [
        "%%R\n",
        "z_alfa_med = qnorm(1-0.025)\n",
        "z = ( (mu_1 - mu_2) - (0))/std_err\n",
        "\n",
        "print(c(z_alfa_med, z))"
      ],
      "execution_count": null,
      "outputs": [
        {
          "output_type": "stream",
          "text": [
            "[1]   1.959964 105.133639\n"
          ],
          "name": "stdout"
        }
      ]
    },
    {
      "cell_type": "markdown",
      "metadata": {
        "id": "zPFbsClDFicb"
      },
      "source": [
        "#### Intervalo de confianza\n",
        "\n",
        "$\\hat{\\theta} \\pm  z_{\\alpha/2} \\cdot \\sigma_{\\hat{\\theta}}$"
      ]
    },
    {
      "cell_type": "code",
      "metadata": {
        "colab": {
          "base_uri": "https://localhost:8080/"
        },
        "id": "dtkEnfQyFg_K",
        "outputId": "88e2e419-31a6-4640-8b7d-0b9f37f1da49"
      },
      "source": [
        "%%R\n",
        "\n",
        "intervalo_conf = c(z - z_alfa_med *std_err, z + z_alfa_med *std_err)\n",
        "print(intervalo_conf)"
      ],
      "execution_count": null,
      "outputs": [
        {
          "output_type": "stream",
          "text": [
            "[1] 105.1041 105.1632\n"
          ],
          "name": "stdout"
        }
      ]
    },
    {
      "cell_type": "markdown",
      "metadata": {
        "id": "SZsK_4MrHJOT"
      },
      "source": [
        "Al analizar que este intervalo de confianza está por mucho dentro del rango positivo vemos que, $\\mu_1 > \\mu_2$, es decir que un cultivo no afectado tiene mejores rendimientos"
      ]
    },
    {
      "cell_type": "code",
      "metadata": {
        "colab": {
          "base_uri": "https://localhost:8080/"
        },
        "id": "g1vlDzEhEeMI",
        "outputId": "431c2328-3c9d-4ad8-b10b-f00bd4514b5d"
      },
      "source": [
        "%%R\n",
        "p_valor = pnorm(z, lower.tail =FALSE)*2\n",
        "print(p_valor)"
      ],
      "execution_count": null,
      "outputs": [
        {
          "output_type": "stream",
          "text": [
            "[1] 0\n"
          ],
          "name": "stdout"
        }
      ]
    },
    {
      "cell_type": "markdown",
      "metadata": {
        "id": "8LY3TexGENSS"
      },
      "source": [
        "### Con lo anterior rechazamos rotundamente que la diferencia de medias es cero, luego que un cultivo se vea afectado por algún factor ambiental incide en su rendimiento"
      ]
    },
    {
      "cell_type": "markdown",
      "metadata": {
        "id": "8D-NGKHbJIWx"
      },
      "source": [
        "## cálculo del error $\\beta$"
      ]
    },
    {
      "cell_type": "code",
      "metadata": {
        "colab": {
          "base_uri": "https://localhost:8080/"
        },
        "id": "Q9A5u8VTJHgP",
        "outputId": "a43043d1-46e9-4daf-906c-9fd62048920a"
      },
      "source": [
        "%%R\n",
        "\n",
        "diff_alt = 6*std_err\n",
        "print(diff_alt)\n",
        "\n",
        "k = (z_alfa_med * std_err) + 0\n",
        "print(k)\n",
        "\n",
        "pnorm( (k- 6*std_err)/std_err )"
      ],
      "execution_count": null,
      "outputs": [
        {
          "output_type": "stream",
          "text": [
            "[1] 0.09037151\n",
            "[1] 0.02952082\n",
            "[1] 2.67215e-05\n"
          ],
          "name": "stdout"
        }
      ]
    },
    {
      "cell_type": "markdown",
      "metadata": {
        "id": "f92hdkTYZyiu"
      },
      "source": [
        "Se puede concluir que con total certeza hay una diferencia considerable en las medias, al todos los parametros probabilisticos que hallamos decir que hay que rechazar rotundamente H0. Ademas por la naturaleza de los resultados se puede decir que M1 es mayor a M2 con total certeza, por lo cual podemos decir que definitivamente hay una reduccion en el rendimiento de los cultivos de Platano cuando son afectados por algun agente externo negativo. "
      ]
    },
    {
      "cell_type": "markdown",
      "metadata": {
        "id": "td3Ye0xUoozF"
      },
      "source": [
        "A partir de aqui haremos esta misma prueba de hipotesis pero para todas las especies de cultivos."
      ]
    },
    {
      "cell_type": "code",
      "metadata": {
        "colab": {
          "base_uri": "https://localhost:8080/"
        },
        "id": "41sTO4lkcqnr",
        "outputId": "54c5864b-2e91-4a2e-9150-d58eb97646fe"
      },
      "source": [
        "%%R\n",
        "cultivos_hipo_no_afect[1:10,]\n"
      ],
      "execution_count": null,
      "outputs": [
        {
          "output_type": "stream",
          "text": [
            "     P_S6P46           nombre P_S6P60 P_S6P59_UNIF\n",
            "1  111201001 Trigo en grano        12     2.063049\n",
            "2  111201001 Trigo en grano        12     3.438222\n",
            "3  111201001 Trigo en grano        12     2.360736\n",
            "4  111201001 Trigo en grano        12     2.412808\n",
            "5  111201001 Trigo en grano        12     3.411425\n",
            "6  111201001 Trigo en grano        12     2.408018\n",
            "7  111201001 Trigo en grano        12     3.411425\n",
            "8  111201001 Trigo en grano        12     3.411425\n",
            "9  111201001 Trigo en grano        12     3.102294\n",
            "10 111201001 Trigo en grano        12     3.411425\n"
          ],
          "name": "stdout"
        }
      ]
    },
    {
      "cell_type": "code",
      "metadata": {
        "colab": {
          "base_uri": "https://localhost:8080/"
        },
        "id": "nJlMmsDh3RC4",
        "outputId": "f3032acb-1df1-44e6-ac54-3a8e03f86bfe"
      },
      "source": [
        "%%R\n",
        "n_afect = aggregate(cultivos_hipo_afect$P_S6P59_UNIF, list(cultivos_hipo_afect$nombre), length)\n",
        "n_no_afect = aggregate(cultivos_hipo_no_afect$P_S6P59_UNIF, list(cultivos_hipo_no_afect$nombre), length)\n",
        "\n",
        "n_afect = rename(n_afect, replace = c(\"x\" = \"n_triste\"))\n",
        "n_no_afect = rename(n_no_afect, replace = c(\"x\" = \"n_feliz\"))\n",
        "\n",
        "n_afect[1:10,]"
      ],
      "execution_count": null,
      "outputs": [
        {
          "output_type": "stream",
          "text": [
            "                   Group.1 n_triste\n",
            "1                  Abarco         2\n",
            "2                  Acacio         1\n",
            "3                  Acelga        25\n",
            "4                  Achiote       47\n",
            "5                 Achiras        25\n",
            "6  Agapanto (Flor de amor)        1\n",
            "7                Aguacate       419\n",
            "8                 Ahuyama       672\n",
            "9       Ajíes y pimientos       362\n",
            "10               Ajonjolí        45\n"
          ],
          "name": "stdout"
        }
      ]
    },
    {
      "cell_type": "code",
      "metadata": {
        "colab": {
          "base_uri": "https://localhost:8080/"
        },
        "id": "D-CCrLRD6w7C",
        "outputId": "c165138c-784b-440a-f840-a5086dd2c515"
      },
      "source": [
        "%%R\n",
        "n_cults = merge(x = n_afect, y= n_no_afect, by = \"Group.1\", all=FALSE)\n",
        "n_cults[1:10,]"
      ],
      "execution_count": null,
      "outputs": [
        {
          "output_type": "stream",
          "text": [
            "                   Group.1 n_triste n_feliz\n",
            "1                  Abarco         2      16\n",
            "2                  Acacio         1     236\n",
            "3                  Acelga        25     859\n",
            "4                  Achiote       47     554\n",
            "5                 Achiras        25   16164\n",
            "6  Agapanto (Flor de amor)        1      55\n",
            "7                Aguacate       419   37596\n",
            "8                 Ahuyama       672   10627\n",
            "9       Ajíes y pimientos       362    8008\n",
            "10               Ajonjolí        45     223\n"
          ],
          "name": "stdout"
        }
      ]
    },
    {
      "cell_type": "code",
      "metadata": {
        "id": "Xr6a07mDfYsM",
        "colab": {
          "base_uri": "https://localhost:8080/"
        },
        "outputId": "d23a831b-b7c7-4894-8cb4-c4a706ef6ddd"
      },
      "source": [
        "%%R\n",
        "medias_afect = aggregate(cultivos_hipo_afect[,4], list(cultivos_hipo_afect$nombre), mean, na.rm=TRUE)\n",
        "sd_afect = aggregate(cultivos_hipo_afect[,4], list(cultivos_hipo_afect$nombre), sd, na.rm=TRUE)\n",
        "\n",
        "medias_afect = rename(medias_afect, replace = c(\"x\" = \"y_bar_triste\"))\n",
        "sd_afect = rename(sd_afect, replace = c(\"x\" = \"sd_triste\"))\n",
        "\n",
        "medias_afect[1:4,]\n",
        "sd_afect[1:4,]"
      ],
      "execution_count": null,
      "outputs": [
        {
          "output_type": "stream",
          "text": [
            "  Group.1 sd_triste\n",
            "1 Abarco   0.000000\n",
            "2 Acacio         NA\n",
            "3 Acelga   4.192021\n",
            "4 Achiote  0.000000\n"
          ],
          "name": "stdout"
        }
      ]
    },
    {
      "cell_type": "code",
      "metadata": {
        "id": "4DHwC4Ftc5EB",
        "colab": {
          "base_uri": "https://localhost:8080/"
        },
        "outputId": "94ab6792-ac87-46be-c74d-27724f9faf2f"
      },
      "source": [
        "%%R\n",
        "medias_no_afect = aggregate(cultivos_hipo_no_afect[,4], list(cultivos_hipo_no_afect$nombre), mean, na.rm=TRUE)\n",
        "sd_no_afect = aggregate(cultivos_hipo_no_afect[,4], list(cultivos_hipo_no_afect$nombre), sd, na.rm=TRUE)\n",
        "\n",
        "medias_no_afect = rename(medias_no_afect, replace = c(\"x\" = \"y_bar_feliz\"))\n",
        "sd_no_afect = rename(sd_no_afect, replace = c(\"x\" = \"sd_feliz\"))\n",
        "\n",
        "\n",
        "medias_no_afect[1:4,]\n",
        "sd_no_afect[1:4,]"
      ],
      "execution_count": null,
      "outputs": [
        {
          "output_type": "stream",
          "text": [
            "          Group.1  sd_feliz\n",
            "1         Abarco  0.9363562\n",
            "2         Acacio  2.0033063\n",
            "3 Aceite de maría 1.1602724\n",
            "4         Acelga  4.6103268\n"
          ],
          "name": "stdout"
        }
      ]
    },
    {
      "cell_type": "code",
      "metadata": {
        "colab": {
          "base_uri": "https://localhost:8080/"
        },
        "id": "jtXggM0Lj59f",
        "outputId": "c920628d-d604-4b35-b910-079f858a3fb3"
      },
      "source": [
        "%%R\n",
        "medias_rendimiento = merge(x = medias_afect, y= medias_no_afect, by = \"Group.1\", all=FALSE)\n",
        "medias_rendimiento[1:4,]"
      ],
      "execution_count": null,
      "outputs": [
        {
          "output_type": "stream",
          "text": [
            "  Group.1 y_bar_triste y_bar_feliz\n",
            "1 Abarco        8.4000    8.024050\n",
            "2 Acacio        6.6000    6.382595\n",
            "3 Acelga       10.6024    9.975504\n",
            "4 Achiote       0.5000    0.500000\n"
          ],
          "name": "stdout"
        }
      ]
    },
    {
      "cell_type": "code",
      "metadata": {
        "colab": {
          "base_uri": "https://localhost:8080/"
        },
        "id": "urVhiSZ7yfhk",
        "outputId": "451cf9c6-a65e-4461-c000-e8ea2a24daf0"
      },
      "source": [
        "%%R\n",
        "sd_rendimiento = merge(x = sd_afect, y= sd_no_afect, by = \"Group.1\", all=FALSE)\n",
        "sd_rendimiento = sd_rendimiento[complete.cases(sd_rendimiento[,3]),]\n",
        "sd_rendimiento[1:4,]"
      ],
      "execution_count": null,
      "outputs": [
        {
          "output_type": "stream",
          "text": [
            "  Group.1 sd_triste  sd_feliz\n",
            "1 Abarco   0.000000 0.9363562\n",
            "2 Acacio         NA 2.0033063\n",
            "3 Acelga   4.192021 4.6103268\n",
            "4 Achiote  0.000000 0.0000000\n"
          ],
          "name": "stdout"
        }
      ]
    },
    {
      "cell_type": "code",
      "metadata": {
        "colab": {
          "base_uri": "https://localhost:8080/"
        },
        "id": "leRcTYeJ11i1",
        "outputId": "fe69add3-c502-4e81-ad65-eb479f4715e0"
      },
      "source": [
        "%%R\n",
        "sd_med_rend = merge(x = sd_rendimiento, y= medias_rendimiento, by = \"Group.1\", all=FALSE)\n",
        "sd_med_rend[1:10,]"
      ],
      "execution_count": null,
      "outputs": [
        {
          "output_type": "stream",
          "text": [
            "                   Group.1  sd_triste   sd_feliz y_bar_triste y_bar_feliz\n",
            "1                  Abarco  0.00000000 0.93635621    8.4000000   8.0240504\n",
            "2                  Acacio          NA 2.00330632    6.6000000   6.3825951\n",
            "3                  Acelga  4.19202071 4.61032678   10.6023977   9.9755042\n",
            "4                  Achiote 0.00000000 0.00000000    0.5000000   0.5000000\n",
            "5                 Achiras  2.24588448 0.74005406    3.6560891   1.4512051\n",
            "6  Agapanto (Flor de amor)         NA 9.82827670    7.1428571  15.0903706\n",
            "7                Aguacate  1.73325644 1.64303531    3.5714134   6.0267323\n",
            "8                 Ahuyama  2.24273426 3.13125842    4.2762258   5.8195051\n",
            "9       Ajíes y pimientos  2.53698915 3.28116518    3.4030219   5.3608856\n",
            "10               Ajonjolí  0.04648659 0.02116515    0.3102557   0.2920708\n"
          ],
          "name": "stdout"
        }
      ]
    },
    {
      "cell_type": "code",
      "metadata": {
        "colab": {
          "base_uri": "https://localhost:8080/"
        },
        "id": "il1nujMd7Oe9",
        "outputId": "a9f98487-a997-4a97-d90b-885f8dbfc327"
      },
      "source": [
        "%%R\n",
        "sd_med_n =  merge(x = n_cults, y= sd_med_rend, by = \"Group.1\", all=FALSE)\n",
        "sd_med_n[1:4,]"
      ],
      "execution_count": null,
      "outputs": [
        {
          "output_type": "stream",
          "text": [
            "  Group.1 n_triste n_feliz sd_triste  sd_feliz y_bar_triste y_bar_feliz\n",
            "1 Abarco         2      16  0.000000 0.9363562       8.4000    8.024050\n",
            "2 Acacio         1     236        NA 2.0033063       6.6000    6.382595\n",
            "3 Acelga        25     859  4.192021 4.6103268      10.6024    9.975504\n",
            "4 Achiote       47     554  0.000000 0.0000000       0.5000    0.500000\n"
          ],
          "name": "stdout"
        }
      ]
    },
    {
      "cell_type": "code",
      "metadata": {
        "colab": {
          "base_uri": "https://localhost:8080/"
        },
        "id": "VVFvpzATmh7I",
        "outputId": "613e577e-2940-4e02-d8a6-3fce6df6a19a"
      },
      "source": [
        "%%R\n",
        "medias_diff = sd_med_n[\"y_bar_feliz\"] - sd_med_n[\"y_bar_triste\"]\n",
        "sd_med_n[\"medias_diff\"] = medias_diff\n",
        "sd_med_n[1:4,]"
      ],
      "execution_count": null,
      "outputs": [
        {
          "output_type": "stream",
          "text": [
            "   Group.1 n_triste n_feliz sd_triste  sd_feliz y_bar_triste y_bar_feliz\n",
            "1  Abarco         2      16  0.000000 0.9363562     8.400000    8.024050\n",
            "3  Acelga        25     859  4.192021 4.6103268    10.602398    9.975504\n",
            "4  Achiote       47     554  0.000000 0.0000000     0.500000    0.500000\n",
            "5 Achiras        25   16164  2.245884 0.7400541     3.656089    1.451205\n",
            "  medias_diff\n",
            "1  -0.3759496\n",
            "3  -0.6268936\n",
            "4   0.0000000\n",
            "5  -2.2048840\n"
          ],
          "name": "stdout"
        }
      ]
    },
    {
      "cell_type": "code",
      "metadata": {
        "colab": {
          "base_uri": "https://localhost:8080/"
        },
        "id": "nSfpGyrH_UYN",
        "outputId": "838e0209-2357-479a-b2c1-b85f622674fc"
      },
      "source": [
        "%%R\n",
        "#borrado de los na que impiden calcular\n",
        "sd_med_n = sd_med_n[complete.cases(sd_med_n[,4]),]\n",
        "\n",
        "#selección de los cultivos que son normalizables \n",
        "#dado que tienen n > 40\n",
        "sd_med_n_norm = sd_med_n[sd_med_n$n_triste > 60,]\n",
        "sd_med_n_norm = sd_med_n_norm[sd_med_n_norm$n_feliz > 60,]\n",
        "\n",
        "sd_med_n_norm[1:4,]"
      ],
      "execution_count": null,
      "outputs": [
        {
          "output_type": "stream",
          "text": [
            "              Group.1 n_triste n_feliz sd_triste  sd_feliz y_bar_triste\n",
            "7           Aguacate       419   37596 1.7332564 1.6430353     3.571413\n",
            "8            Ahuyama       672   10627 2.2427343 3.1312584     4.276226\n",
            "9  Ajíes y pimientos       362    8008 2.5369891 3.2811652     3.403022\n",
            "14           Algodón       654    7707 0.4001618 0.3861851     2.452522\n",
            "   y_bar_feliz medias_diff\n",
            "7     6.026732  2.45531897\n",
            "8     5.819505  1.54327925\n",
            "9     5.360886  1.95786377\n",
            "14    2.373022 -0.07949948\n"
          ],
          "name": "stdout"
        }
      ]
    },
    {
      "cell_type": "code",
      "metadata": {
        "id": "3yUA6u6F9oEM"
      },
      "source": [
        "%%R\n",
        "\n",
        "sd_med_n_norm[\"std_err\"] = sqrt((sd_med_n_norm$sd_feliz^2)/sd_med_n_norm$n_feliz + \n",
        "                                (sd_med_n_norm$sd_triste^2)/sd_med_n_norm$n_triste)"
      ],
      "execution_count": null,
      "outputs": []
    },
    {
      "cell_type": "code",
      "metadata": {
        "id": "2eCHCyjn2w-Y"
      },
      "source": [
        "%%R\n",
        "\n",
        "sd_med_n_norm[\"z\"] = sd_med_n_norm$medias_diff/sd_med_n_norm$std_err"
      ],
      "execution_count": null,
      "outputs": []
    },
    {
      "cell_type": "code",
      "metadata": {
        "id": "TfGzzpscCMXB"
      },
      "source": [
        "%%R \n",
        "#para un alfa de 0.05\n",
        "alfa_med = 0.05\n",
        "z_alfa = qnorm(alfa_med)\n",
        "\n",
        "sd_med_n_norm[\"aceptar_ha\"] = sd_med_n_norm$z < z_alfa\n",
        "sd_med_n_norm[\"p_valor\"] = pnorm((sd_med_n_norm$z), lower.tail = TRUE)\n",
        "\n",
        "\n",
        "sd_med_n_norm[\"aceptar_ha(p_val)\"] = sd_med_n_norm$p_valor < alfa_med\n",
        "#aceptar_p"
      ],
      "execution_count": null,
      "outputs": []
    },
    {
      "cell_type": "code",
      "metadata": {
        "id": "NxMwtc_AEFPg"
      },
      "source": [
        "%%R \n",
        "z_final = sd_med_n_norm[,c(\"Group.1\",\"aceptar_ha\",\"aceptar_ha(p_val)\", \"z\")]\n",
        "z_final"
      ],
      "execution_count": null,
      "outputs": []
    },
    {
      "cell_type": "code",
      "metadata": {
        "colab": {
          "base_uri": "https://localhost:8080/"
        },
        "id": "bPnxj352hfMC",
        "outputId": "e5890ece-abd6-43e1-9c39-fedd90ba1800"
      },
      "source": [
        "%%R\n",
        "\n",
        "#calcular el porcentaje de todos los cultivos para los cuales se cumple\n",
        "#la hipótesis alternativa\n",
        "\n",
        "total = length(sd_med_n_norm$Group.1)\n",
        "\n",
        "sis = sd_med_n_norm[sd_med_n_norm$aceptar_ha == TRUE,]\n",
        "sis = length(sis$Group.1)\n",
        "\n",
        "ratio_ha_aceptada = sis*100/total\n",
        "ratio_ha_aceptada "
      ],
      "execution_count": null,
      "outputs": [
        {
          "output_type": "stream",
          "text": [
            "[1] 87.5\n"
          ],
          "name": "stdout"
        }
      ]
    },
    {
      "cell_type": "code",
      "metadata": {
        "colab": {
          "base_uri": "https://localhost:8080/"
        },
        "id": "EeMAH9zaAtgc",
        "outputId": "053c1fed-4a7d-4149-e112-8409e36ada7d"
      },
      "source": [
        "%%R\n",
        "fresa = sd_med_n_norm[sd_med_n_norm$Group.1 == \"Fresa \",]\n",
        "fresa"
      ],
      "execution_count": null,
      "outputs": [
        {
          "output_type": "stream",
          "text": [
            "   Group.1 n_triste n_feliz sd_triste sd_feliz y_bar_triste y_bar_feliz\n",
            "86  Fresa        73    3879  9.732229 2.268184     4.300443    6.376523\n",
            "   medias_diff  std_err        z aceptar_ha    p_valor aceptar_ha(p_val)\n",
            "86     2.07608 1.139653 1.821677      FALSE 0.03425202             FALSE\n"
          ],
          "name": "stdout"
        }
      ]
    },
    {
      "cell_type": "markdown",
      "metadata": {
        "id": "6cNevRhzo4fq"
      },
      "source": [
        "A partir de aqui haremos la distribucion t con aquellos cultivos con n menos a 60. Los de mayor a 60 ya les hicimos la prueba z.\n",
        "\n",
        "$t = \\frac{y_1-y_2-0}{sp \\sqrt{\\frac{1}{n_1}+\\frac{1}{n_2}}}$\n",
        "\n",
        "$sp = \\sqrt{\\frac{(n_1-1)s_1^2+(n_2-1)s_2^2}{n_1+n_2-2}}$"
      ]
    },
    {
      "cell_type": "code",
      "metadata": {
        "id": "O8pn0uOapDo9"
      },
      "source": [
        "%%R\n",
        "\n",
        "sd_med_n_tstudent = sd_med_n[sd_med_n$n_triste < 60,]\n",
        "sd_med_n_tstudent = sd_med_n_tstudent[sd_med_n_tstudent$n_feliz  < 60,]\n",
        "\n",
        "sd_med_n_tstudent[1:4,]"
      ],
      "execution_count": null,
      "outputs": []
    },
    {
      "cell_type": "code",
      "metadata": {
        "id": "p9gg2Sa4pjA_"
      },
      "source": [
        "%%R\n",
        "\n",
        "sd_med_n_tstudent[\"df\"] = sd_med_n_tstudent$n_feliz + sd_med_n_tstudent$n_triste - 2\n",
        "\n",
        "sd_med_n_tstudent[\"sp\"] = sqrt(((sd_med_n_tstudent$n_feliz-1)*(sd_med_n_tstudent$sd_feliz)^2 + (sd_med_n_tstudent$n_triste-1)*(sd_med_n_tstudent$sd_triste)^2)/\n",
        "                               (sd_med_n_tstudent$df))\n",
        "\n"
      ],
      "execution_count": null,
      "outputs": []
    },
    {
      "cell_type": "code",
      "metadata": {
        "id": "a_ka1xTJppIy"
      },
      "source": [
        "%%R\n",
        "\n",
        "sd_med_n_tstudent[\"tstudent\"] = (sd_med_n_tstudent$medias_diff)/(sd_med_n_tstudent$sp*(sqrt((1/sd_med_n_tstudent$n_feliz) + (1/sd_med_n_tstudent$n_triste))))"
      ],
      "execution_count": null,
      "outputs": []
    },
    {
      "cell_type": "code",
      "metadata": {
        "id": "7NQse-X6prMx"
      },
      "source": [
        "%%R \n",
        "#para un alfa de 0.05\n",
        "alfa_med_tstudent = 0.05\n",
        "tstudent_alfa = qt(alfa_med_tstudent, df = sd_med_n_tstudent$df)\n",
        "\n",
        "sd_med_n_tstudent[\"aceptar_ha\"] = sd_med_n_tstudent$tstudent < tstudent_alfa\n",
        "sd_med_n_tstudent[\"p_valor\"] = pt((sd_med_n_tstudent$tstudent), df = sd_med_n_tstudent$df, lower.tail = TRUE)\n",
        "\n",
        "\n",
        "sd_med_n_tstudent[\"aceptar_ha(p_val)\"] = sd_med_n_tstudent$p_valor < alfa_med\n",
        "#aceptar_p"
      ],
      "execution_count": null,
      "outputs": []
    },
    {
      "cell_type": "code",
      "metadata": {
        "id": "ob4dg1wnprGC"
      },
      "source": [
        "%%R \n",
        "tstudent_final = sd_med_n_tstudent[,c(\"Group.1\",\"aceptar_ha\",\"aceptar_ha(p_val)\", \"tstudent\")]\n",
        "tstudent_final"
      ],
      "execution_count": null,
      "outputs": []
    },
    {
      "cell_type": "code",
      "metadata": {
        "id": "8WX2flqepq48"
      },
      "source": [
        "%%R\n",
        "\n",
        "write.csv(x = z_final, file = \"/gdrive/MyDrive/Tabla_PdHMedias_Z.csv\", row.names = TRUE)\n",
        "write.csv(x = tstudent_final, file = \"/gdrive/MyDrive/Tabla_PdHMedias_Tstudent.csv\", row.names = TRUE)"
      ],
      "execution_count": null,
      "outputs": []
    },
    {
      "cell_type": "markdown",
      "metadata": {
        "id": "ShpVGmgBqH4C"
      },
      "source": [
        "Ahora a partir de aqui graficamos las proporciones de la prueba de hipotesis "
      ]
    },
    {
      "cell_type": "code",
      "metadata": {
        "id": "8nvouO82pqvh"
      },
      "source": [
        "%%R \n",
        "\n",
        "tstudent_final_porcentaje = tstudent_final[,c(\"Group.1\",\"aceptar_ha\")]\n",
        "z_final_porcentaje = z_final[,c(\"Group.1\",\"aceptar_ha\")]\n",
        "\n",
        "tabla_porcentaje = rbind(tstudent_final_porcentaje, z_final_porcentaje)\n",
        "tabla_porcentaje"
      ],
      "execution_count": null,
      "outputs": []
    },
    {
      "cell_type": "code",
      "metadata": {
        "id": "-K3fz_xypqQ9"
      },
      "source": [
        "%%R\n",
        "\n",
        "porcentaje_h0 = round((51 * 100 / 74), 0)\n",
        "porcentaje_ha = round((23 * 100 / 74), 0)\n",
        "pdf(\"Piecharthipotesis.pdf\")\n",
        "pie(table(tabla_porcentaje$aceptar_ha), labels = paste0(c(porcentaje_h0, porcentaje_ha), \"%\"), main = (\"Porcentajes sobre la prueba de hipotesis\"))\n",
        "\n",
        "legend(\"topleft\", legend = c(\"Aceptamos H0\", \"Aceptamos Ha\"),\n",
        "       fill =  c(\"white\", \"lightblue\"))\n"
      ],
      "execution_count": null,
      "outputs": []
    }
  ]
}